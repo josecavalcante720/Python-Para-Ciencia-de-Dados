{
  "nbformat": 4,
  "nbformat_minor": 0,
  "metadata": {
    "colab": {
      "name": "Pandas - Python para Data Science.ipynb",
      "provenance": [],
      "authorship_tag": "ABX9TyM341v9ncLARiszY8Q5ZdFj",
      "include_colab_link": true
    },
    "kernelspec": {
      "name": "python3",
      "display_name": "Python 3"
    }
  },
  "cells": [
    {
      "cell_type": "markdown",
      "metadata": {
        "id": "view-in-github",
        "colab_type": "text"
      },
      "source": [
        "<a href=\"https://colab.research.google.com/github/ricardorocha86/Fundamentos-de-Python-para-ML/blob/main/Pandas_Python_para_Data_Science.ipynb\" target=\"_parent\"><img src=\"https://colab.research.google.com/assets/colab-badge.svg\" alt=\"Open In Colab\"/></a>"
      ]
    },
    {
      "cell_type": "markdown",
      "metadata": {
        "id": "9spOcMo4FPNI"
      },
      "source": [
        "# **Pandas - Python para Data Science**\n"
      ]
    },
    {
      "cell_type": "markdown",
      "metadata": {
        "id": "RgKi_rebQYm9"
      },
      "source": [
        "Pandas é a principal biblioteca em Python para manipulação de conjuntos de dados. Nesse script vamos estudar alguns de seus métodos mais úteis. Mas antes, apresentaremos o conceito de tuplas, conjuntos e dicionários, objetos esses fundamentais do Python."
      ]
    },
    {
      "cell_type": "markdown",
      "metadata": {
        "id": "HoQw4n_SMn9P"
      },
      "source": [
        "## **Conteúdo desse notebook:**\n",
        "\n",
        "1. [Tuplas](#tupl)\n",
        "2. [Conjuntos](#conj) \n",
        "6. [Exemplo: Jogo da Mega-sena](#jogo) \n",
        "7. [Exercício](#exer) \n",
        "6. [Dicionários](#dici) \n",
        "6. [A Biblioteca Pandas](#pand) \n",
        "6. [O método Groupby](#grou) \n",
        "6. [LOC e ILOC](#iloc) \n",
        "6. [Importação de Dados](#impo) \n",
        "\n",
        "9. [Links Úteis](#links) "
      ]
    },
    {
      "cell_type": "markdown",
      "metadata": {
        "id": "1l2tpVyWWB84"
      },
      "source": [
        "## **Tuplas** <a name=\"tupl\"></a>"
      ]
    },
    {
      "cell_type": "markdown",
      "metadata": {
        "id": "Hq1QGJGsYAPi"
      },
      "source": [
        "Tuplas são muito similares a listas. São definidas utilizando parênteses **( )**. A diferença entre listas e tuplas é que tuplas não são mutáveis, isto é, você não consegue alterar o valor de uma entrada de uma tupla. Veja no exemplo."
      ]
    },
    {
      "cell_type": "code",
      "metadata": {
        "id": "zeEQcg15R-z-",
        "outputId": "6e5323d9-4ed0-46b3-fe7c-a39341f1d1df",
        "colab": {
          "base_uri": "https://localhost:8080/",
          "height": 36
        }
      },
      "source": [
        "lista = ['Ricardo', 33, True, len]\n",
        "tupla = ('Ricardo', 33, True, len)\n",
        "print(tupla[0])"
      ],
      "execution_count": null,
      "outputs": [
        {
          "output_type": "stream",
          "text": [
            "Ricardo\n"
          ],
          "name": "stdout"
        }
      ]
    },
    {
      "cell_type": "code",
      "metadata": {
        "id": "WwD6lwEfSJut",
        "outputId": "d6b6d03a-949b-42d7-8043-0bddb0fcc8c1",
        "colab": {
          "base_uri": "https://localhost:8080/",
          "height": 173
        }
      },
      "source": [
        "tupla[0] = 'Python'"
      ],
      "execution_count": null,
      "outputs": [
        {
          "output_type": "error",
          "ename": "TypeError",
          "evalue": "ignored",
          "traceback": [
            "\u001b[0;31m---------------------------------------------------------------------------\u001b[0m",
            "\u001b[0;31mTypeError\u001b[0m                                 Traceback (most recent call last)",
            "\u001b[0;32m<ipython-input-3-f89789468150>\u001b[0m in \u001b[0;36m<module>\u001b[0;34m()\u001b[0m\n\u001b[0;32m----> 1\u001b[0;31m \u001b[0mtupla\u001b[0m\u001b[0;34m[\u001b[0m\u001b[0;36m0\u001b[0m\u001b[0;34m]\u001b[0m \u001b[0;34m=\u001b[0m \u001b[0;34m'Python'\u001b[0m\u001b[0;34m\u001b[0m\u001b[0;34m\u001b[0m\u001b[0m\n\u001b[0m",
            "\u001b[0;31mTypeError\u001b[0m: 'tuple' object does not support item assignment"
          ]
        }
      ]
    },
    {
      "cell_type": "code",
      "metadata": {
        "id": "R1BffMF2SFS_",
        "outputId": "67906975-d6a1-457c-d4c9-4d7e3448d2e4",
        "colab": {
          "base_uri": "https://localhost:8080/",
          "height": 36
        }
      },
      "source": [
        "lista[0] = 'Python'\n",
        "print(lista)"
      ],
      "execution_count": null,
      "outputs": [
        {
          "output_type": "stream",
          "text": [
            "['Python', 33, True, <built-in function len>]\n"
          ],
          "name": "stdout"
        }
      ]
    },
    {
      "cell_type": "markdown",
      "metadata": {
        "id": "nJlZkE7MYBEL"
      },
      "source": [
        "Tuplas, em geral, são mais rápidas de se processar do que listas. Elas previnem que uma informação seja alterada ou modificada sem intenção. Elas não possuem o método **append** ou **extend**. No entanto, ela não são tão frequentemente utilizadas como são as listas. "
      ]
    },
    {
      "cell_type": "markdown",
      "metadata": {
        "id": "9XQ9g5cPTK3Q"
      },
      "source": [
        "## **Conjuntos** <a name=\"conj\"></a>"
      ]
    },
    {
      "cell_type": "markdown",
      "metadata": {
        "id": "vOwQDFd3TLBu"
      },
      "source": [
        "Conjuntos é também um objeto básico do Python que simula um conjunto matemático. Neles, podemos armazenar elementos que não serão indexados e não permite repetições. Conjuntos são criados através da função **set** em uma lista ou utilizando **chaves { }**. Veja o exemplo."
      ]
    },
    {
      "cell_type": "code",
      "metadata": {
        "id": "ort4fxkmTrmE"
      },
      "source": [
        "conjunto1 = set(['carne', 'linguiça', 'frango', 'cerveja', 'refrigerante', 'carne', 'frango'])\n",
        "conjunto2 = {'carne', 'linguiça', 'frango', 'cerveja', 'refrigerante', 'carne', 'linguiça'}"
      ],
      "execution_count": null,
      "outputs": []
    },
    {
      "cell_type": "code",
      "metadata": {
        "id": "9gEVTn9CUDR-",
        "outputId": "78be44c3-cb95-45bb-d80a-52b64ff8b2fb",
        "colab": {
          "base_uri": "https://localhost:8080/",
          "height": 73
        }
      },
      "source": [
        "print(conjunto1)\n",
        "print(conjunto2)\n",
        "print(conjunto1 == conjunto2)"
      ],
      "execution_count": null,
      "outputs": [
        {
          "output_type": "stream",
          "text": [
            "{'carne', 'linguiça', 'refrigerante', 'frango', 'cerveja'}\n",
            "{'carne', 'linguiça', 'refrigerante', 'frango', 'cerveja'}\n",
            "True\n"
          ],
          "name": "stdout"
        }
      ]
    },
    {
      "cell_type": "markdown",
      "metadata": {
        "id": "1nEIxFSYUzWx"
      },
      "source": [
        "Alguns métodos importantes em conjuntos são as possíveis operações "
      ]
    },
    {
      "cell_type": "code",
      "metadata": {
        "id": "F1GndKzvUAbf",
        "outputId": "4cc61b13-7733-48a0-f719-0d388b6d784c",
        "colab": {
          "base_uri": "https://localhost:8080/",
          "height": 202
        }
      },
      "source": [
        "conj1 = {'A', 'B', 'C', 1, 2, 3}\n",
        "conj2 = {'C', 'D', 'E', 3, 4, 5}\n",
        "print(conj1)\n",
        "print(conj2)\n",
        "\n",
        "print('\\nInterseção: ', conj1.intersection(conj2))\n",
        "print('\\nUnião: ', conj1.union(conj2))\n",
        "print('\\nSão disjuntos?: ', conj1.isdisjoint(conj2))\n",
        "print('\\nDiferença Simétrica: ', conj1.symmetric_difference(conj2))"
      ],
      "execution_count": null,
      "outputs": [
        {
          "output_type": "stream",
          "text": [
            "{'B', 1, 2, 3, 'A', 'C'}\n",
            "{3, 'E', 4, 5, 'D', 'C'}\n",
            "\n",
            "Interseção:  {3, 'C'}\n",
            "\n",
            "União:  {'B', 1, 2, 3, 'E', 'A', 4, 5, 'D', 'C'}\n",
            "\n",
            "São disjuntos?:  False\n",
            "\n",
            "Diferença Simétrica:  {'B', 1, 2, 4, 5, 'E', 'A', 'D'}\n"
          ],
          "name": "stdout"
        }
      ]
    },
    {
      "cell_type": "markdown",
      "metadata": {
        "id": "YLE8D4yr4J4q"
      },
      "source": [
        "## **Exemplo: Jogo da Mega-sena** <a name=\"jogo\"></a>"
      ]
    },
    {
      "cell_type": "code",
      "metadata": {
        "id": "CC_ll16V4iJK",
        "outputId": "71346745-dc62-4027-d54b-1ae2877829bc",
        "colab": {
          "base_uri": "https://localhost:8080/"
        }
      },
      "source": [
        "import random \n",
        "\n",
        "sorteio = random.sample(range(1, 61), k = 6)\n",
        "meujogo = random.sample(range(1, 61), k = 6)\n",
        "\n",
        "sorteio = set(sorteio)\n",
        "meujogo = set(meujogo)  \n",
        "\n",
        "numeros = sorteio.intersection(meujogo)\n",
        "acertos = len(numeros)\n",
        "print(' Sorteio:', sorteio)\n",
        "print('Meu Jogo:', meujogo) \n",
        "print('#Acertos:', acertos)"
      ],
      "execution_count": 10,
      "outputs": [
        {
          "output_type": "stream",
          "text": [
            " Sorteio: {40, 10, 45, 13, 17, 26}\n",
            "Meu Jogo: {1, 41, 45, 14, 21, 26}\n",
            "#Acertos: 2\n"
          ],
          "name": "stdout"
        }
      ]
    },
    {
      "cell_type": "markdown",
      "metadata": {
        "id": "9XReSs1H5L8T"
      },
      "source": [
        "## **Exercício:**  <a name=\"exer\"></a>\n",
        "\n",
        "Utilizando a frequencia relativa com que cada jogo ocorre, estime as probabilidades de acertar cada quantidade possível de acertos no jogo da mega-sena. "
      ]
    },
    {
      "cell_type": "markdown",
      "metadata": {
        "id": "5GjMyuwrxrQh"
      },
      "source": [
        "## **Dicionários** <a name=\"dici\"></a>\n",
        " \n"
      ]
    },
    {
      "cell_type": "markdown",
      "metadata": {
        "id": "GXH65lvlx0gl"
      },
      "source": [
        "Dicionários são objetos no python similares a conjuntos, mas permitem que sejam colocados chaves de referência para cada item. São definidos utilizando chaves **{ }** "
      ]
    },
    {
      "cell_type": "code",
      "metadata": {
        "id": "IqYC1RV9yMt1"
      },
      "source": [
        "dicionario = {'nome': 'Ricardo', 'idade': 33, 'magro': False, 'função_favorita': len}"
      ],
      "execution_count": 13,
      "outputs": []
    },
    {
      "cell_type": "code",
      "metadata": {
        "id": "Kk9ZP8usygY5",
        "outputId": "254e231d-ede3-459f-e049-cc118014b92e",
        "colab": {
          "base_uri": "https://localhost:8080/"
        }
      },
      "source": [
        "dicionario.items()"
      ],
      "execution_count": 14,
      "outputs": [
        {
          "output_type": "execute_result",
          "data": {
            "text/plain": [
              "dict_items([('nome', 'Ricardo'), ('idade', 33), ('magro', False), ('função_favorita', <built-in function len>)])"
            ]
          },
          "metadata": {
            "tags": []
          },
          "execution_count": 14
        }
      ]
    },
    {
      "cell_type": "code",
      "metadata": {
        "id": "NyelWW_8ylgu",
        "outputId": "97d7fe93-30fb-4e53-e060-c00e81e63648",
        "colab": {
          "base_uri": "https://localhost:8080/"
        }
      },
      "source": [
        "dicionario.keys()"
      ],
      "execution_count": 15,
      "outputs": [
        {
          "output_type": "execute_result",
          "data": {
            "text/plain": [
              "dict_keys(['nome', 'idade', 'magro', 'função_favorita'])"
            ]
          },
          "metadata": {
            "tags": []
          },
          "execution_count": 15
        }
      ]
    },
    {
      "cell_type": "code",
      "metadata": {
        "id": "AlCZXYpEDt5j",
        "outputId": "4cde1304-8466-4ff5-fe9b-314e74dba7b8",
        "colab": {
          "base_uri": "https://localhost:8080/"
        }
      },
      "source": [
        "dicionario.values()"
      ],
      "execution_count": 16,
      "outputs": [
        {
          "output_type": "execute_result",
          "data": {
            "text/plain": [
              "dict_values(['Ricardo', 33, False, <built-in function len>])"
            ]
          },
          "metadata": {
            "tags": []
          },
          "execution_count": 16
        }
      ]
    },
    {
      "cell_type": "code",
      "metadata": {
        "id": "0Kc8Ixhfyv4L",
        "outputId": "8bd0acce-600f-44e0-a336-e52c6099c0da",
        "colab": {
          "base_uri": "https://localhost:8080/",
          "height": 36
        }
      },
      "source": [
        "dicionario.get('nome')"
      ],
      "execution_count": 17,
      "outputs": [
        {
          "output_type": "execute_result",
          "data": {
            "application/vnd.google.colaboratory.intrinsic+json": {
              "type": "string"
            },
            "text/plain": [
              "'Ricardo'"
            ]
          },
          "metadata": {
            "tags": []
          },
          "execution_count": 17
        }
      ]
    },
    {
      "cell_type": "markdown",
      "metadata": {
        "id": "sd4byHojyynH"
      },
      "source": [
        "Adicionando novos itens a um dicionário:"
      ]
    },
    {
      "cell_type": "code",
      "metadata": {
        "id": "e7epUiPRzrfE"
      },
      "source": [
        "dicionario['musica_favorita'] = 'Fairy Tale - Shaman'"
      ],
      "execution_count": 18,
      "outputs": []
    },
    {
      "cell_type": "code",
      "metadata": {
        "id": "UYmiS-A5z07c",
        "outputId": "54ad8458-4aed-4f67-dba0-564cf207d737",
        "colab": {
          "base_uri": "https://localhost:8080/"
        }
      },
      "source": [
        "print(dicionario)"
      ],
      "execution_count": 19,
      "outputs": [
        {
          "output_type": "stream",
          "text": [
            "{'nome': 'Ricardo', 'idade': 33, 'magro': False, 'função_favorita': <built-in function len>, 'musica_favorita': 'Fairy Tale - Shaman'}\n"
          ],
          "name": "stdout"
        }
      ]
    },
    {
      "cell_type": "markdown",
      "metadata": {
        "id": "9kocKWQbzxLf"
      },
      "source": [
        "Visualizando todas as keys (chaves):"
      ]
    },
    {
      "cell_type": "code",
      "metadata": {
        "id": "WrI23nkC0DTb",
        "outputId": "b36957c7-6411-4ba0-fd34-b004273e9007",
        "colab": {
          "base_uri": "https://localhost:8080/"
        }
      },
      "source": [
        "for i in dicionario:\n",
        "    print(i)"
      ],
      "execution_count": 20,
      "outputs": [
        {
          "output_type": "stream",
          "text": [
            "nome\n",
            "idade\n",
            "magro\n",
            "função_favorita\n",
            "musica_favorita\n"
          ],
          "name": "stdout"
        }
      ]
    },
    {
      "cell_type": "markdown",
      "metadata": {
        "id": "LvDKhOUt0GGE"
      },
      "source": [
        "Visualizando todas os values (valores):"
      ]
    },
    {
      "cell_type": "code",
      "metadata": {
        "id": "Qg4gMLgf0L2E",
        "outputId": "0bdb90d6-9902-4855-df54-2adcb2b3b42b",
        "colab": {
          "base_uri": "https://localhost:8080/"
        }
      },
      "source": [
        "for i in dicionario:\n",
        "    print(dicionario[i])"
      ],
      "execution_count": 21,
      "outputs": [
        {
          "output_type": "stream",
          "text": [
            "Ricardo\n",
            "33\n",
            "False\n",
            "<built-in function len>\n",
            "Fairy Tale - Shaman\n"
          ],
          "name": "stdout"
        }
      ]
    },
    {
      "cell_type": "markdown",
      "metadata": {
        "id": "NMG3o7de0Qi8"
      },
      "source": [
        "Dicionários são úteis em diversas ocasiões em Python, como por exemplo, para passar uma lista de argumentos para uma função:"
      ]
    },
    {
      "cell_type": "code",
      "metadata": {
        "id": "XuuB_nms0b4W",
        "outputId": "ba2d5a9a-2f85-426f-a250-72c2104fc220",
        "colab": {
          "base_uri": "https://localhost:8080/"
        }
      },
      "source": [
        "parametros = {'loc': 2, 'scale': 1, 'size': 12}\n",
        "print(parametros)"
      ],
      "execution_count": 2,
      "outputs": [
        {
          "output_type": "stream",
          "text": [
            "{'loc': 2, 'scale': 1, 'size': 12}\n"
          ],
          "name": "stdout"
        }
      ]
    },
    {
      "cell_type": "code",
      "metadata": {
        "id": "gVpAmawNytuc",
        "outputId": "692c463b-6ab2-4913-cb6b-cb07a0678b63",
        "colab": {
          "base_uri": "https://localhost:8080/"
        }
      },
      "source": [
        "import numpy as np\n",
        "\n",
        "x = np.random.normal(**parametros)\n",
        "print(x)\n"
      ],
      "execution_count": 3,
      "outputs": [
        {
          "output_type": "stream",
          "text": [
            "[ 2.88180784  1.57328683  2.09338323  1.55900781  1.63236401  3.15049155\n",
            " -0.2143025   3.34666913  1.72472354  2.71774829  2.57095912 -0.25842117]\n"
          ],
          "name": "stdout"
        }
      ]
    },
    {
      "cell_type": "markdown",
      "metadata": {
        "id": "rHR-KVDv26rz"
      },
      "source": [
        "Existe uma solução similar para quando se quer passar listas como argumentos de função:"
      ]
    },
    {
      "cell_type": "code",
      "metadata": {
        "id": "eu8WolK22EbW",
        "outputId": "41feb312-d904-468b-cb7c-0688dbd114db",
        "colab": {
          "base_uri": "https://localhost:8080/",
          "height": 54
        }
      },
      "source": [
        "x = np.random.normal(*[2, 1, 12])\n",
        "print(x)"
      ],
      "execution_count": null,
      "outputs": [
        {
          "output_type": "stream",
          "text": [
            "[2.87783395 1.901883   0.98516956 2.33666672 2.06751484 3.89585858\n",
            " 2.25744675 3.30778925 3.25457413 1.97127765 5.08657147 2.80088823]\n"
          ],
          "name": "stdout"
        }
      ]
    },
    {
      "cell_type": "markdown",
      "metadata": {
        "id": "sp5a6xSKysGA"
      },
      "source": [
        "## **A Biblioteca Pandas** <a name=\"pand\"></a>"
      ]
    },
    {
      "cell_type": "markdown",
      "metadata": {
        "id": "twMKZpCZyqe2"
      },
      "source": [
        "Pandas é a principal biblioteca em Python para se trabalhar com conjunto de dados. Ela oferece diversos objetos e muitas funções que facilitam a importação, seleção, alteração e filtragem de conjuntos de dados. Vejamos alguns a seguir."
      ]
    },
    {
      "cell_type": "markdown",
      "metadata": {
        "id": "Zr0v5FAbfgCg"
      },
      "source": [
        "Os dois principais objetos da biblioteca pandas são o **Series** e o **DataFrame**. O segundo é a representação usual que temos de um conjunto de dados, o primeiro é um objeto similar a um array. Para todos os fins, um objeto Series é como se fosse um DataFrame de apenas uma coluna.\n",
        "\n",
        "Vejamos como criar alguns DataFrames:"
      ]
    },
    {
      "cell_type": "code",
      "metadata": {
        "id": "nzQknJ8Nf7Ho"
      },
      "source": [
        "import pandas as pd"
      ],
      "execution_count": 4,
      "outputs": []
    },
    {
      "cell_type": "code",
      "metadata": {
        "id": "Givie7Abf9pJ",
        "outputId": "fa23ca40-33fd-49cf-ea49-897b429a695e",
        "colab": {
          "base_uri": "https://localhost:8080/"
        }
      },
      "source": [
        "valores = np.random.uniform(0, 10, 20).reshape(5, 4).round(1)\n",
        "valores"
      ],
      "execution_count": 5,
      "outputs": [
        {
          "output_type": "execute_result",
          "data": {
            "text/plain": [
              "array([[7.1, 3.2, 9.2, 8.2],\n",
              "       [4.4, 4.8, 2.1, 9.9],\n",
              "       [4. , 1.6, 6.2, 1.3],\n",
              "       [3.5, 5.9, 3.5, 2.4],\n",
              "       [9.4, 0.7, 7.4, 5. ]])"
            ]
          },
          "metadata": {
            "tags": []
          },
          "execution_count": 5
        }
      ]
    },
    {
      "cell_type": "code",
      "metadata": {
        "id": "m-ECB_E7gF2j"
      },
      "source": [
        "nomes = ['Alice', 'Bruno', 'Carol', 'David', 'Emily']\n",
        "testes = ['P1', 'P2', 'P3', 'P4']"
      ],
      "execution_count": 6,
      "outputs": []
    },
    {
      "cell_type": "code",
      "metadata": {
        "id": "tQN4m--XfeCK",
        "outputId": "b6adc6e7-dc05-4881-df19-b5ab824dc0ee",
        "colab": {
          "base_uri": "https://localhost:8080/",
          "height": 206
        }
      },
      "source": [
        "provas = pd.DataFrame(valores, columns = testes, index = nomes)\n",
        "provas"
      ],
      "execution_count": 7,
      "outputs": [
        {
          "output_type": "execute_result",
          "data": {
            "text/html": [
              "<div>\n",
              "<style scoped>\n",
              "    .dataframe tbody tr th:only-of-type {\n",
              "        vertical-align: middle;\n",
              "    }\n",
              "\n",
              "    .dataframe tbody tr th {\n",
              "        vertical-align: top;\n",
              "    }\n",
              "\n",
              "    .dataframe thead th {\n",
              "        text-align: right;\n",
              "    }\n",
              "</style>\n",
              "<table border=\"1\" class=\"dataframe\">\n",
              "  <thead>\n",
              "    <tr style=\"text-align: right;\">\n",
              "      <th></th>\n",
              "      <th>P1</th>\n",
              "      <th>P2</th>\n",
              "      <th>P3</th>\n",
              "      <th>P4</th>\n",
              "    </tr>\n",
              "  </thead>\n",
              "  <tbody>\n",
              "    <tr>\n",
              "      <th>Alice</th>\n",
              "      <td>7.1</td>\n",
              "      <td>3.2</td>\n",
              "      <td>9.2</td>\n",
              "      <td>8.2</td>\n",
              "    </tr>\n",
              "    <tr>\n",
              "      <th>Bruno</th>\n",
              "      <td>4.4</td>\n",
              "      <td>4.8</td>\n",
              "      <td>2.1</td>\n",
              "      <td>9.9</td>\n",
              "    </tr>\n",
              "    <tr>\n",
              "      <th>Carol</th>\n",
              "      <td>4.0</td>\n",
              "      <td>1.6</td>\n",
              "      <td>6.2</td>\n",
              "      <td>1.3</td>\n",
              "    </tr>\n",
              "    <tr>\n",
              "      <th>David</th>\n",
              "      <td>3.5</td>\n",
              "      <td>5.9</td>\n",
              "      <td>3.5</td>\n",
              "      <td>2.4</td>\n",
              "    </tr>\n",
              "    <tr>\n",
              "      <th>Emily</th>\n",
              "      <td>9.4</td>\n",
              "      <td>0.7</td>\n",
              "      <td>7.4</td>\n",
              "      <td>5.0</td>\n",
              "    </tr>\n",
              "  </tbody>\n",
              "</table>\n",
              "</div>"
            ],
            "text/plain": [
              "        P1   P2   P3   P4\n",
              "Alice  7.1  3.2  9.2  8.2\n",
              "Bruno  4.4  4.8  2.1  9.9\n",
              "Carol  4.0  1.6  6.2  1.3\n",
              "David  3.5  5.9  3.5  2.4\n",
              "Emily  9.4  0.7  7.4  5.0"
            ]
          },
          "metadata": {
            "tags": []
          },
          "execution_count": 7
        }
      ]
    },
    {
      "cell_type": "code",
      "metadata": {
        "id": "PykG8Me-feVr",
        "outputId": "60090faf-ad7b-4619-982a-ed3a1a6ebf59",
        "colab": {
          "base_uri": "https://localhost:8080/",
          "height": 174
        }
      },
      "source": [
        "provas.transpose()"
      ],
      "execution_count": 8,
      "outputs": [
        {
          "output_type": "execute_result",
          "data": {
            "text/html": [
              "<div>\n",
              "<style scoped>\n",
              "    .dataframe tbody tr th:only-of-type {\n",
              "        vertical-align: middle;\n",
              "    }\n",
              "\n",
              "    .dataframe tbody tr th {\n",
              "        vertical-align: top;\n",
              "    }\n",
              "\n",
              "    .dataframe thead th {\n",
              "        text-align: right;\n",
              "    }\n",
              "</style>\n",
              "<table border=\"1\" class=\"dataframe\">\n",
              "  <thead>\n",
              "    <tr style=\"text-align: right;\">\n",
              "      <th></th>\n",
              "      <th>Alice</th>\n",
              "      <th>Bruno</th>\n",
              "      <th>Carol</th>\n",
              "      <th>David</th>\n",
              "      <th>Emily</th>\n",
              "    </tr>\n",
              "  </thead>\n",
              "  <tbody>\n",
              "    <tr>\n",
              "      <th>P1</th>\n",
              "      <td>7.1</td>\n",
              "      <td>4.4</td>\n",
              "      <td>4.0</td>\n",
              "      <td>3.5</td>\n",
              "      <td>9.4</td>\n",
              "    </tr>\n",
              "    <tr>\n",
              "      <th>P2</th>\n",
              "      <td>3.2</td>\n",
              "      <td>4.8</td>\n",
              "      <td>1.6</td>\n",
              "      <td>5.9</td>\n",
              "      <td>0.7</td>\n",
              "    </tr>\n",
              "    <tr>\n",
              "      <th>P3</th>\n",
              "      <td>9.2</td>\n",
              "      <td>2.1</td>\n",
              "      <td>6.2</td>\n",
              "      <td>3.5</td>\n",
              "      <td>7.4</td>\n",
              "    </tr>\n",
              "    <tr>\n",
              "      <th>P4</th>\n",
              "      <td>8.2</td>\n",
              "      <td>9.9</td>\n",
              "      <td>1.3</td>\n",
              "      <td>2.4</td>\n",
              "      <td>5.0</td>\n",
              "    </tr>\n",
              "  </tbody>\n",
              "</table>\n",
              "</div>"
            ],
            "text/plain": [
              "    Alice  Bruno  Carol  David  Emily\n",
              "P1    7.1    4.4    4.0    3.5    9.4\n",
              "P2    3.2    4.8    1.6    5.9    0.7\n",
              "P3    9.2    2.1    6.2    3.5    7.4\n",
              "P4    8.2    9.9    1.3    2.4    5.0"
            ]
          },
          "metadata": {
            "tags": []
          },
          "execution_count": 8
        }
      ]
    },
    {
      "cell_type": "markdown",
      "metadata": {
        "id": "LPyXCnLafeeW"
      },
      "source": [
        "Gerando DataFrames através de Dicionários:"
      ]
    },
    {
      "cell_type": "code",
      "metadata": {
        "id": "_-Rhr0l7iFeJ"
      },
      "source": [
        "dicionario = {'Alice': np.random.uniform(5, 10, 4).round(1),\n",
        "              'Bruno': np.random.uniform(0, 7, 4).round(1),\n",
        "              'Carol': np.random.uniform(3, 7, 4).round(1),\n",
        "              'David': np.random.uniform(0, 10, 4).round(1),\n",
        "              'Emily': np.random.uniform(1, 10, 4).round(1),\n",
        "              'Fabio': np.random.uniform(1, 10, 4).round(1),\n",
        "              'Gloria': np.random.uniform(1, 10, 4).round(1)}"
      ],
      "execution_count": 49,
      "outputs": []
    },
    {
      "cell_type": "code",
      "metadata": {
        "id": "woHJJLeGil0K"
      },
      "source": [
        "provas = pd.DataFrame(dicionario)"
      ],
      "execution_count": 50,
      "outputs": []
    },
    {
      "cell_type": "code",
      "metadata": {
        "id": "VPVV70HdiPbK"
      },
      "source": [
        "provas.index = ['P1', 'P2', 'P3', 'P4']"
      ],
      "execution_count": 51,
      "outputs": []
    },
    {
      "cell_type": "code",
      "metadata": {
        "id": "uUwBWh1Ziw8z"
      },
      "source": [
        "provas = provas.transpose()"
      ],
      "execution_count": 52,
      "outputs": []
    },
    {
      "cell_type": "code",
      "metadata": {
        "id": "kFLZHExYEnT4",
        "outputId": "e8e6fa3d-1612-4f01-f9cb-37b7c75d3068",
        "colab": {
          "base_uri": "https://localhost:8080/",
          "height": 269
        }
      },
      "source": [
        "provas"
      ],
      "execution_count": 53,
      "outputs": [
        {
          "output_type": "execute_result",
          "data": {
            "text/html": [
              "<div>\n",
              "<style scoped>\n",
              "    .dataframe tbody tr th:only-of-type {\n",
              "        vertical-align: middle;\n",
              "    }\n",
              "\n",
              "    .dataframe tbody tr th {\n",
              "        vertical-align: top;\n",
              "    }\n",
              "\n",
              "    .dataframe thead th {\n",
              "        text-align: right;\n",
              "    }\n",
              "</style>\n",
              "<table border=\"1\" class=\"dataframe\">\n",
              "  <thead>\n",
              "    <tr style=\"text-align: right;\">\n",
              "      <th></th>\n",
              "      <th>P1</th>\n",
              "      <th>P2</th>\n",
              "      <th>P3</th>\n",
              "      <th>P4</th>\n",
              "    </tr>\n",
              "  </thead>\n",
              "  <tbody>\n",
              "    <tr>\n",
              "      <th>Alice</th>\n",
              "      <td>6.8</td>\n",
              "      <td>7.4</td>\n",
              "      <td>7.9</td>\n",
              "      <td>9.1</td>\n",
              "    </tr>\n",
              "    <tr>\n",
              "      <th>Bruno</th>\n",
              "      <td>1.0</td>\n",
              "      <td>1.7</td>\n",
              "      <td>0.7</td>\n",
              "      <td>2.7</td>\n",
              "    </tr>\n",
              "    <tr>\n",
              "      <th>Carol</th>\n",
              "      <td>4.8</td>\n",
              "      <td>3.2</td>\n",
              "      <td>5.9</td>\n",
              "      <td>6.7</td>\n",
              "    </tr>\n",
              "    <tr>\n",
              "      <th>David</th>\n",
              "      <td>8.8</td>\n",
              "      <td>3.5</td>\n",
              "      <td>7.6</td>\n",
              "      <td>3.3</td>\n",
              "    </tr>\n",
              "    <tr>\n",
              "      <th>Emily</th>\n",
              "      <td>2.2</td>\n",
              "      <td>7.0</td>\n",
              "      <td>2.9</td>\n",
              "      <td>4.7</td>\n",
              "    </tr>\n",
              "    <tr>\n",
              "      <th>Fabio</th>\n",
              "      <td>9.7</td>\n",
              "      <td>8.6</td>\n",
              "      <td>4.7</td>\n",
              "      <td>3.6</td>\n",
              "    </tr>\n",
              "    <tr>\n",
              "      <th>Gloria</th>\n",
              "      <td>5.4</td>\n",
              "      <td>7.6</td>\n",
              "      <td>9.4</td>\n",
              "      <td>6.7</td>\n",
              "    </tr>\n",
              "  </tbody>\n",
              "</table>\n",
              "</div>"
            ],
            "text/plain": [
              "         P1   P2   P3   P4\n",
              "Alice   6.8  7.4  7.9  9.1\n",
              "Bruno   1.0  1.7  0.7  2.7\n",
              "Carol   4.8  3.2  5.9  6.7\n",
              "David   8.8  3.5  7.6  3.3\n",
              "Emily   2.2  7.0  2.9  4.7\n",
              "Fabio   9.7  8.6  4.7  3.6\n",
              "Gloria  5.4  7.6  9.4  6.7"
            ]
          },
          "metadata": {
            "tags": []
          },
          "execution_count": 53
        }
      ]
    },
    {
      "cell_type": "markdown",
      "metadata": {
        "id": "VQO-ODtJE8_t"
      },
      "source": [
        "Alguns métodos básicos importantes:"
      ]
    },
    {
      "cell_type": "code",
      "metadata": {
        "id": "h6a5CbNsixqa",
        "outputId": "e42e6064-5017-4896-b314-c940cdaf35d4",
        "colab": {
          "base_uri": "https://localhost:8080/",
          "height": 112
        }
      },
      "source": [
        "provas.head(2)"
      ],
      "execution_count": 54,
      "outputs": [
        {
          "output_type": "execute_result",
          "data": {
            "text/html": [
              "<div>\n",
              "<style scoped>\n",
              "    .dataframe tbody tr th:only-of-type {\n",
              "        vertical-align: middle;\n",
              "    }\n",
              "\n",
              "    .dataframe tbody tr th {\n",
              "        vertical-align: top;\n",
              "    }\n",
              "\n",
              "    .dataframe thead th {\n",
              "        text-align: right;\n",
              "    }\n",
              "</style>\n",
              "<table border=\"1\" class=\"dataframe\">\n",
              "  <thead>\n",
              "    <tr style=\"text-align: right;\">\n",
              "      <th></th>\n",
              "      <th>P1</th>\n",
              "      <th>P2</th>\n",
              "      <th>P3</th>\n",
              "      <th>P4</th>\n",
              "    </tr>\n",
              "  </thead>\n",
              "  <tbody>\n",
              "    <tr>\n",
              "      <th>Alice</th>\n",
              "      <td>6.8</td>\n",
              "      <td>7.4</td>\n",
              "      <td>7.9</td>\n",
              "      <td>9.1</td>\n",
              "    </tr>\n",
              "    <tr>\n",
              "      <th>Bruno</th>\n",
              "      <td>1.0</td>\n",
              "      <td>1.7</td>\n",
              "      <td>0.7</td>\n",
              "      <td>2.7</td>\n",
              "    </tr>\n",
              "  </tbody>\n",
              "</table>\n",
              "</div>"
            ],
            "text/plain": [
              "        P1   P2   P3   P4\n",
              "Alice  6.8  7.4  7.9  9.1\n",
              "Bruno  1.0  1.7  0.7  2.7"
            ]
          },
          "metadata": {
            "tags": []
          },
          "execution_count": 54
        }
      ]
    },
    {
      "cell_type": "code",
      "metadata": {
        "id": "PFu4k955jXpE",
        "outputId": "080fabdd-5e3c-4f31-d911-6dd04bdef5df",
        "colab": {
          "base_uri": "https://localhost:8080/",
          "height": 112
        }
      },
      "source": [
        "provas.tail(2)"
      ],
      "execution_count": 55,
      "outputs": [
        {
          "output_type": "execute_result",
          "data": {
            "text/html": [
              "<div>\n",
              "<style scoped>\n",
              "    .dataframe tbody tr th:only-of-type {\n",
              "        vertical-align: middle;\n",
              "    }\n",
              "\n",
              "    .dataframe tbody tr th {\n",
              "        vertical-align: top;\n",
              "    }\n",
              "\n",
              "    .dataframe thead th {\n",
              "        text-align: right;\n",
              "    }\n",
              "</style>\n",
              "<table border=\"1\" class=\"dataframe\">\n",
              "  <thead>\n",
              "    <tr style=\"text-align: right;\">\n",
              "      <th></th>\n",
              "      <th>P1</th>\n",
              "      <th>P2</th>\n",
              "      <th>P3</th>\n",
              "      <th>P4</th>\n",
              "    </tr>\n",
              "  </thead>\n",
              "  <tbody>\n",
              "    <tr>\n",
              "      <th>Fabio</th>\n",
              "      <td>9.7</td>\n",
              "      <td>8.6</td>\n",
              "      <td>4.7</td>\n",
              "      <td>3.6</td>\n",
              "    </tr>\n",
              "    <tr>\n",
              "      <th>Gloria</th>\n",
              "      <td>5.4</td>\n",
              "      <td>7.6</td>\n",
              "      <td>9.4</td>\n",
              "      <td>6.7</td>\n",
              "    </tr>\n",
              "  </tbody>\n",
              "</table>\n",
              "</div>"
            ],
            "text/plain": [
              "         P1   P2   P3   P4\n",
              "Fabio   9.7  8.6  4.7  3.6\n",
              "Gloria  5.4  7.6  9.4  6.7"
            ]
          },
          "metadata": {
            "tags": []
          },
          "execution_count": 55
        }
      ]
    },
    {
      "cell_type": "code",
      "metadata": {
        "id": "r2cKr7zfiCbr",
        "outputId": "49de7461-9536-41db-d875-057bf94e583b",
        "colab": {
          "base_uri": "https://localhost:8080/"
        }
      },
      "source": [
        "provas.info()"
      ],
      "execution_count": 56,
      "outputs": [
        {
          "output_type": "stream",
          "text": [
            "<class 'pandas.core.frame.DataFrame'>\n",
            "Index: 7 entries, Alice to Gloria\n",
            "Data columns (total 4 columns):\n",
            " #   Column  Non-Null Count  Dtype  \n",
            "---  ------  --------------  -----  \n",
            " 0   P1      7 non-null      float64\n",
            " 1   P2      7 non-null      float64\n",
            " 2   P3      7 non-null      float64\n",
            " 3   P4      7 non-null      float64\n",
            "dtypes: float64(4)\n",
            "memory usage: 280.0+ bytes\n"
          ],
          "name": "stdout"
        }
      ]
    },
    {
      "cell_type": "code",
      "metadata": {
        "id": "aPBjktoMjbXS",
        "outputId": "0a3def9f-a9ab-4146-9679-d714b91cd057",
        "colab": {
          "base_uri": "https://localhost:8080/",
          "height": 300
        }
      },
      "source": [
        "provas.describe()"
      ],
      "execution_count": 57,
      "outputs": [
        {
          "output_type": "execute_result",
          "data": {
            "text/html": [
              "<div>\n",
              "<style scoped>\n",
              "    .dataframe tbody tr th:only-of-type {\n",
              "        vertical-align: middle;\n",
              "    }\n",
              "\n",
              "    .dataframe tbody tr th {\n",
              "        vertical-align: top;\n",
              "    }\n",
              "\n",
              "    .dataframe thead th {\n",
              "        text-align: right;\n",
              "    }\n",
              "</style>\n",
              "<table border=\"1\" class=\"dataframe\">\n",
              "  <thead>\n",
              "    <tr style=\"text-align: right;\">\n",
              "      <th></th>\n",
              "      <th>P1</th>\n",
              "      <th>P2</th>\n",
              "      <th>P3</th>\n",
              "      <th>P4</th>\n",
              "    </tr>\n",
              "  </thead>\n",
              "  <tbody>\n",
              "    <tr>\n",
              "      <th>count</th>\n",
              "      <td>7.000000</td>\n",
              "      <td>7.000000</td>\n",
              "      <td>7.000000</td>\n",
              "      <td>7.000000</td>\n",
              "    </tr>\n",
              "    <tr>\n",
              "      <th>mean</th>\n",
              "      <td>5.528571</td>\n",
              "      <td>5.571429</td>\n",
              "      <td>5.585714</td>\n",
              "      <td>5.257143</td>\n",
              "    </tr>\n",
              "    <tr>\n",
              "      <th>std</th>\n",
              "      <td>3.210771</td>\n",
              "      <td>2.694881</td>\n",
              "      <td>3.053101</td>\n",
              "      <td>2.322253</td>\n",
              "    </tr>\n",
              "    <tr>\n",
              "      <th>min</th>\n",
              "      <td>1.000000</td>\n",
              "      <td>1.700000</td>\n",
              "      <td>0.700000</td>\n",
              "      <td>2.700000</td>\n",
              "    </tr>\n",
              "    <tr>\n",
              "      <th>25%</th>\n",
              "      <td>3.500000</td>\n",
              "      <td>3.350000</td>\n",
              "      <td>3.800000</td>\n",
              "      <td>3.450000</td>\n",
              "    </tr>\n",
              "    <tr>\n",
              "      <th>50%</th>\n",
              "      <td>5.400000</td>\n",
              "      <td>7.000000</td>\n",
              "      <td>5.900000</td>\n",
              "      <td>4.700000</td>\n",
              "    </tr>\n",
              "    <tr>\n",
              "      <th>75%</th>\n",
              "      <td>7.800000</td>\n",
              "      <td>7.500000</td>\n",
              "      <td>7.750000</td>\n",
              "      <td>6.700000</td>\n",
              "    </tr>\n",
              "    <tr>\n",
              "      <th>max</th>\n",
              "      <td>9.700000</td>\n",
              "      <td>8.600000</td>\n",
              "      <td>9.400000</td>\n",
              "      <td>9.100000</td>\n",
              "    </tr>\n",
              "  </tbody>\n",
              "</table>\n",
              "</div>"
            ],
            "text/plain": [
              "             P1        P2        P3        P4\n",
              "count  7.000000  7.000000  7.000000  7.000000\n",
              "mean   5.528571  5.571429  5.585714  5.257143\n",
              "std    3.210771  2.694881  3.053101  2.322253\n",
              "min    1.000000  1.700000  0.700000  2.700000\n",
              "25%    3.500000  3.350000  3.800000  3.450000\n",
              "50%    5.400000  7.000000  5.900000  4.700000\n",
              "75%    7.800000  7.500000  7.750000  6.700000\n",
              "max    9.700000  8.600000  9.400000  9.100000"
            ]
          },
          "metadata": {
            "tags": []
          },
          "execution_count": 57
        }
      ]
    },
    {
      "cell_type": "code",
      "metadata": {
        "id": "BGmZPXz6jkOB",
        "outputId": "42deae48-2e90-4660-87eb-50afda8d8f0d",
        "colab": {
          "base_uri": "https://localhost:8080/",
          "height": 300
        }
      },
      "source": [
        "provas.transpose().describe()"
      ],
      "execution_count": 58,
      "outputs": [
        {
          "output_type": "execute_result",
          "data": {
            "text/html": [
              "<div>\n",
              "<style scoped>\n",
              "    .dataframe tbody tr th:only-of-type {\n",
              "        vertical-align: middle;\n",
              "    }\n",
              "\n",
              "    .dataframe tbody tr th {\n",
              "        vertical-align: top;\n",
              "    }\n",
              "\n",
              "    .dataframe thead th {\n",
              "        text-align: right;\n",
              "    }\n",
              "</style>\n",
              "<table border=\"1\" class=\"dataframe\">\n",
              "  <thead>\n",
              "    <tr style=\"text-align: right;\">\n",
              "      <th></th>\n",
              "      <th>Alice</th>\n",
              "      <th>Bruno</th>\n",
              "      <th>Carol</th>\n",
              "      <th>David</th>\n",
              "      <th>Emily</th>\n",
              "      <th>Fabio</th>\n",
              "      <th>Gloria</th>\n",
              "    </tr>\n",
              "  </thead>\n",
              "  <tbody>\n",
              "    <tr>\n",
              "      <th>count</th>\n",
              "      <td>4.000000</td>\n",
              "      <td>4.000000</td>\n",
              "      <td>4.000000</td>\n",
              "      <td>4.000000</td>\n",
              "      <td>4.000000</td>\n",
              "      <td>4.000000</td>\n",
              "      <td>4.00000</td>\n",
              "    </tr>\n",
              "    <tr>\n",
              "      <th>mean</th>\n",
              "      <td>7.800000</td>\n",
              "      <td>1.525000</td>\n",
              "      <td>5.150000</td>\n",
              "      <td>5.800000</td>\n",
              "      <td>4.200000</td>\n",
              "      <td>6.650000</td>\n",
              "      <td>7.27500</td>\n",
              "    </tr>\n",
              "    <tr>\n",
              "      <th>std</th>\n",
              "      <td>0.976388</td>\n",
              "      <td>0.888351</td>\n",
              "      <td>1.515476</td>\n",
              "      <td>2.815434</td>\n",
              "      <td>2.143206</td>\n",
              "      <td>2.955785</td>\n",
              "      <td>1.68003</td>\n",
              "    </tr>\n",
              "    <tr>\n",
              "      <th>min</th>\n",
              "      <td>6.800000</td>\n",
              "      <td>0.700000</td>\n",
              "      <td>3.200000</td>\n",
              "      <td>3.300000</td>\n",
              "      <td>2.200000</td>\n",
              "      <td>3.600000</td>\n",
              "      <td>5.40000</td>\n",
              "    </tr>\n",
              "    <tr>\n",
              "      <th>25%</th>\n",
              "      <td>7.250000</td>\n",
              "      <td>0.925000</td>\n",
              "      <td>4.400000</td>\n",
              "      <td>3.450000</td>\n",
              "      <td>2.725000</td>\n",
              "      <td>4.425000</td>\n",
              "      <td>6.37500</td>\n",
              "    </tr>\n",
              "    <tr>\n",
              "      <th>50%</th>\n",
              "      <td>7.650000</td>\n",
              "      <td>1.350000</td>\n",
              "      <td>5.350000</td>\n",
              "      <td>5.550000</td>\n",
              "      <td>3.800000</td>\n",
              "      <td>6.650000</td>\n",
              "      <td>7.15000</td>\n",
              "    </tr>\n",
              "    <tr>\n",
              "      <th>75%</th>\n",
              "      <td>8.200000</td>\n",
              "      <td>1.950000</td>\n",
              "      <td>6.100000</td>\n",
              "      <td>7.900000</td>\n",
              "      <td>5.275000</td>\n",
              "      <td>8.875000</td>\n",
              "      <td>8.05000</td>\n",
              "    </tr>\n",
              "    <tr>\n",
              "      <th>max</th>\n",
              "      <td>9.100000</td>\n",
              "      <td>2.700000</td>\n",
              "      <td>6.700000</td>\n",
              "      <td>8.800000</td>\n",
              "      <td>7.000000</td>\n",
              "      <td>9.700000</td>\n",
              "      <td>9.40000</td>\n",
              "    </tr>\n",
              "  </tbody>\n",
              "</table>\n",
              "</div>"
            ],
            "text/plain": [
              "          Alice     Bruno     Carol     David     Emily     Fabio   Gloria\n",
              "count  4.000000  4.000000  4.000000  4.000000  4.000000  4.000000  4.00000\n",
              "mean   7.800000  1.525000  5.150000  5.800000  4.200000  6.650000  7.27500\n",
              "std    0.976388  0.888351  1.515476  2.815434  2.143206  2.955785  1.68003\n",
              "min    6.800000  0.700000  3.200000  3.300000  2.200000  3.600000  5.40000\n",
              "25%    7.250000  0.925000  4.400000  3.450000  2.725000  4.425000  6.37500\n",
              "50%    7.650000  1.350000  5.350000  5.550000  3.800000  6.650000  7.15000\n",
              "75%    8.200000  1.950000  6.100000  7.900000  5.275000  8.875000  8.05000\n",
              "max    9.100000  2.700000  6.700000  8.800000  7.000000  9.700000  9.40000"
            ]
          },
          "metadata": {
            "tags": []
          },
          "execution_count": 58
        }
      ]
    },
    {
      "cell_type": "code",
      "metadata": {
        "id": "7rNq0EnWk9Pd",
        "outputId": "e3c1f171-c8ed-4b62-c07c-8c96039c5e9a",
        "colab": {
          "base_uri": "https://localhost:8080/"
        }
      },
      "source": [
        "provas.shape"
      ],
      "execution_count": 59,
      "outputs": [
        {
          "output_type": "execute_result",
          "data": {
            "text/plain": [
              "(7, 4)"
            ]
          },
          "metadata": {
            "tags": []
          },
          "execution_count": 59
        }
      ]
    },
    {
      "cell_type": "markdown",
      "metadata": {
        "id": "qWxZ_6lfwqJ1"
      },
      "source": [
        "Criando uma nova variável para representar sexo da pessoa"
      ]
    },
    {
      "cell_type": "code",
      "metadata": {
        "id": "R0YnEGK7wxPy"
      },
      "source": [
        "provas['Sexo'] = ['F', 'M', 'F', 'M', 'F', 'M', 'F']"
      ],
      "execution_count": 60,
      "outputs": []
    },
    {
      "cell_type": "markdown",
      "metadata": {
        "id": "cp2UBs-4EziL"
      },
      "source": [
        "Criando uma nova variável chamada **Média**, sendo a média aritmética das 4 provas:\n",
        " \n",
        "\n",
        "\n",
        "\n"
      ]
    },
    {
      "cell_type": "code",
      "metadata": {
        "id": "OMkJLgJIjkTG"
      },
      "source": [
        "provas['MF'] = provas.mean(axis = 1).round(1)"
      ],
      "execution_count": 61,
      "outputs": []
    },
    {
      "cell_type": "code",
      "metadata": {
        "id": "eKhj-2tdExeS",
        "outputId": "e0cefda5-85a6-492b-f365-3727a736375e",
        "colab": {
          "base_uri": "https://localhost:8080/",
          "height": 269
        }
      },
      "source": [
        "provas"
      ],
      "execution_count": 62,
      "outputs": [
        {
          "output_type": "execute_result",
          "data": {
            "text/html": [
              "<div>\n",
              "<style scoped>\n",
              "    .dataframe tbody tr th:only-of-type {\n",
              "        vertical-align: middle;\n",
              "    }\n",
              "\n",
              "    .dataframe tbody tr th {\n",
              "        vertical-align: top;\n",
              "    }\n",
              "\n",
              "    .dataframe thead th {\n",
              "        text-align: right;\n",
              "    }\n",
              "</style>\n",
              "<table border=\"1\" class=\"dataframe\">\n",
              "  <thead>\n",
              "    <tr style=\"text-align: right;\">\n",
              "      <th></th>\n",
              "      <th>P1</th>\n",
              "      <th>P2</th>\n",
              "      <th>P3</th>\n",
              "      <th>P4</th>\n",
              "      <th>Sexo</th>\n",
              "      <th>MF</th>\n",
              "    </tr>\n",
              "  </thead>\n",
              "  <tbody>\n",
              "    <tr>\n",
              "      <th>Alice</th>\n",
              "      <td>6.8</td>\n",
              "      <td>7.4</td>\n",
              "      <td>7.9</td>\n",
              "      <td>9.1</td>\n",
              "      <td>F</td>\n",
              "      <td>7.8</td>\n",
              "    </tr>\n",
              "    <tr>\n",
              "      <th>Bruno</th>\n",
              "      <td>1.0</td>\n",
              "      <td>1.7</td>\n",
              "      <td>0.7</td>\n",
              "      <td>2.7</td>\n",
              "      <td>M</td>\n",
              "      <td>1.5</td>\n",
              "    </tr>\n",
              "    <tr>\n",
              "      <th>Carol</th>\n",
              "      <td>4.8</td>\n",
              "      <td>3.2</td>\n",
              "      <td>5.9</td>\n",
              "      <td>6.7</td>\n",
              "      <td>F</td>\n",
              "      <td>5.2</td>\n",
              "    </tr>\n",
              "    <tr>\n",
              "      <th>David</th>\n",
              "      <td>8.8</td>\n",
              "      <td>3.5</td>\n",
              "      <td>7.6</td>\n",
              "      <td>3.3</td>\n",
              "      <td>M</td>\n",
              "      <td>5.8</td>\n",
              "    </tr>\n",
              "    <tr>\n",
              "      <th>Emily</th>\n",
              "      <td>2.2</td>\n",
              "      <td>7.0</td>\n",
              "      <td>2.9</td>\n",
              "      <td>4.7</td>\n",
              "      <td>F</td>\n",
              "      <td>4.2</td>\n",
              "    </tr>\n",
              "    <tr>\n",
              "      <th>Fabio</th>\n",
              "      <td>9.7</td>\n",
              "      <td>8.6</td>\n",
              "      <td>4.7</td>\n",
              "      <td>3.6</td>\n",
              "      <td>M</td>\n",
              "      <td>6.6</td>\n",
              "    </tr>\n",
              "    <tr>\n",
              "      <th>Gloria</th>\n",
              "      <td>5.4</td>\n",
              "      <td>7.6</td>\n",
              "      <td>9.4</td>\n",
              "      <td>6.7</td>\n",
              "      <td>F</td>\n",
              "      <td>7.3</td>\n",
              "    </tr>\n",
              "  </tbody>\n",
              "</table>\n",
              "</div>"
            ],
            "text/plain": [
              "         P1   P2   P3   P4 Sexo   MF\n",
              "Alice   6.8  7.4  7.9  9.1    F  7.8\n",
              "Bruno   1.0  1.7  0.7  2.7    M  1.5\n",
              "Carol   4.8  3.2  5.9  6.7    F  5.2\n",
              "David   8.8  3.5  7.6  3.3    M  5.8\n",
              "Emily   2.2  7.0  2.9  4.7    F  4.2\n",
              "Fabio   9.7  8.6  4.7  3.6    M  6.6\n",
              "Gloria  5.4  7.6  9.4  6.7    F  7.3"
            ]
          },
          "metadata": {
            "tags": []
          },
          "execution_count": 62
        }
      ]
    },
    {
      "cell_type": "markdown",
      "metadata": {
        "id": "cSaqnZd0FDqj"
      },
      "source": [
        "Criando uma nova variável personalizada, em que é definida como 'Aprovado' se a variável Média for maior ou igual a 5, e 'Reprovado' no caso contrário:"
      ]
    },
    {
      "cell_type": "code",
      "metadata": {
        "id": "zZYSpl3wkNax"
      },
      "source": [
        "def aux(x):\n",
        "    if x >= 5:\n",
        "        return 'Aprovado'\n",
        "    else:\n",
        "        return 'Reprovado'\n",
        "\n",
        "provas['Situação'] = provas['MF'].apply(aux)"
      ],
      "execution_count": 63,
      "outputs": []
    },
    {
      "cell_type": "code",
      "metadata": {
        "id": "wknqa9sGFWib",
        "outputId": "6c839300-f8e9-44d9-b53b-910c151ba394",
        "colab": {
          "base_uri": "https://localhost:8080/",
          "height": 269
        }
      },
      "source": [
        "provas"
      ],
      "execution_count": 64,
      "outputs": [
        {
          "output_type": "execute_result",
          "data": {
            "text/html": [
              "<div>\n",
              "<style scoped>\n",
              "    .dataframe tbody tr th:only-of-type {\n",
              "        vertical-align: middle;\n",
              "    }\n",
              "\n",
              "    .dataframe tbody tr th {\n",
              "        vertical-align: top;\n",
              "    }\n",
              "\n",
              "    .dataframe thead th {\n",
              "        text-align: right;\n",
              "    }\n",
              "</style>\n",
              "<table border=\"1\" class=\"dataframe\">\n",
              "  <thead>\n",
              "    <tr style=\"text-align: right;\">\n",
              "      <th></th>\n",
              "      <th>P1</th>\n",
              "      <th>P2</th>\n",
              "      <th>P3</th>\n",
              "      <th>P4</th>\n",
              "      <th>Sexo</th>\n",
              "      <th>MF</th>\n",
              "      <th>Situação</th>\n",
              "    </tr>\n",
              "  </thead>\n",
              "  <tbody>\n",
              "    <tr>\n",
              "      <th>Alice</th>\n",
              "      <td>6.8</td>\n",
              "      <td>7.4</td>\n",
              "      <td>7.9</td>\n",
              "      <td>9.1</td>\n",
              "      <td>F</td>\n",
              "      <td>7.8</td>\n",
              "      <td>Aprovado</td>\n",
              "    </tr>\n",
              "    <tr>\n",
              "      <th>Bruno</th>\n",
              "      <td>1.0</td>\n",
              "      <td>1.7</td>\n",
              "      <td>0.7</td>\n",
              "      <td>2.7</td>\n",
              "      <td>M</td>\n",
              "      <td>1.5</td>\n",
              "      <td>Reprovado</td>\n",
              "    </tr>\n",
              "    <tr>\n",
              "      <th>Carol</th>\n",
              "      <td>4.8</td>\n",
              "      <td>3.2</td>\n",
              "      <td>5.9</td>\n",
              "      <td>6.7</td>\n",
              "      <td>F</td>\n",
              "      <td>5.2</td>\n",
              "      <td>Aprovado</td>\n",
              "    </tr>\n",
              "    <tr>\n",
              "      <th>David</th>\n",
              "      <td>8.8</td>\n",
              "      <td>3.5</td>\n",
              "      <td>7.6</td>\n",
              "      <td>3.3</td>\n",
              "      <td>M</td>\n",
              "      <td>5.8</td>\n",
              "      <td>Aprovado</td>\n",
              "    </tr>\n",
              "    <tr>\n",
              "      <th>Emily</th>\n",
              "      <td>2.2</td>\n",
              "      <td>7.0</td>\n",
              "      <td>2.9</td>\n",
              "      <td>4.7</td>\n",
              "      <td>F</td>\n",
              "      <td>4.2</td>\n",
              "      <td>Reprovado</td>\n",
              "    </tr>\n",
              "    <tr>\n",
              "      <th>Fabio</th>\n",
              "      <td>9.7</td>\n",
              "      <td>8.6</td>\n",
              "      <td>4.7</td>\n",
              "      <td>3.6</td>\n",
              "      <td>M</td>\n",
              "      <td>6.6</td>\n",
              "      <td>Aprovado</td>\n",
              "    </tr>\n",
              "    <tr>\n",
              "      <th>Gloria</th>\n",
              "      <td>5.4</td>\n",
              "      <td>7.6</td>\n",
              "      <td>9.4</td>\n",
              "      <td>6.7</td>\n",
              "      <td>F</td>\n",
              "      <td>7.3</td>\n",
              "      <td>Aprovado</td>\n",
              "    </tr>\n",
              "  </tbody>\n",
              "</table>\n",
              "</div>"
            ],
            "text/plain": [
              "         P1   P2   P3   P4 Sexo   MF   Situação\n",
              "Alice   6.8  7.4  7.9  9.1    F  7.8   Aprovado\n",
              "Bruno   1.0  1.7  0.7  2.7    M  1.5  Reprovado\n",
              "Carol   4.8  3.2  5.9  6.7    F  5.2   Aprovado\n",
              "David   8.8  3.5  7.6  3.3    M  5.8   Aprovado\n",
              "Emily   2.2  7.0  2.9  4.7    F  4.2  Reprovado\n",
              "Fabio   9.7  8.6  4.7  3.6    M  6.6   Aprovado\n",
              "Gloria  5.4  7.6  9.4  6.7    F  7.3   Aprovado"
            ]
          },
          "metadata": {
            "tags": []
          },
          "execution_count": 64
        }
      ]
    },
    {
      "cell_type": "markdown",
      "metadata": {
        "id": "WHU-J7KbFU8u"
      },
      "source": [
        "Veja a versatilidade do método apply. É possível criar inúmeros tipos de variáveis, basta definir a transformação desejada em uma função."
      ]
    },
    {
      "cell_type": "markdown",
      "metadata": {
        "id": "_vkT4lRZFl_Y"
      },
      "source": [
        "Ordenando um conjunto de dados"
      ]
    },
    {
      "cell_type": "code",
      "metadata": {
        "id": "7hNepPRtkjGn",
        "outputId": "29f5f682-34b0-4998-ed95-a4445b4e3694",
        "colab": {
          "base_uri": "https://localhost:8080/",
          "height": 269
        }
      },
      "source": [
        "provas.sort_values('MF')"
      ],
      "execution_count": 65,
      "outputs": [
        {
          "output_type": "execute_result",
          "data": {
            "text/html": [
              "<div>\n",
              "<style scoped>\n",
              "    .dataframe tbody tr th:only-of-type {\n",
              "        vertical-align: middle;\n",
              "    }\n",
              "\n",
              "    .dataframe tbody tr th {\n",
              "        vertical-align: top;\n",
              "    }\n",
              "\n",
              "    .dataframe thead th {\n",
              "        text-align: right;\n",
              "    }\n",
              "</style>\n",
              "<table border=\"1\" class=\"dataframe\">\n",
              "  <thead>\n",
              "    <tr style=\"text-align: right;\">\n",
              "      <th></th>\n",
              "      <th>P1</th>\n",
              "      <th>P2</th>\n",
              "      <th>P3</th>\n",
              "      <th>P4</th>\n",
              "      <th>Sexo</th>\n",
              "      <th>MF</th>\n",
              "      <th>Situação</th>\n",
              "    </tr>\n",
              "  </thead>\n",
              "  <tbody>\n",
              "    <tr>\n",
              "      <th>Bruno</th>\n",
              "      <td>1.0</td>\n",
              "      <td>1.7</td>\n",
              "      <td>0.7</td>\n",
              "      <td>2.7</td>\n",
              "      <td>M</td>\n",
              "      <td>1.5</td>\n",
              "      <td>Reprovado</td>\n",
              "    </tr>\n",
              "    <tr>\n",
              "      <th>Emily</th>\n",
              "      <td>2.2</td>\n",
              "      <td>7.0</td>\n",
              "      <td>2.9</td>\n",
              "      <td>4.7</td>\n",
              "      <td>F</td>\n",
              "      <td>4.2</td>\n",
              "      <td>Reprovado</td>\n",
              "    </tr>\n",
              "    <tr>\n",
              "      <th>Carol</th>\n",
              "      <td>4.8</td>\n",
              "      <td>3.2</td>\n",
              "      <td>5.9</td>\n",
              "      <td>6.7</td>\n",
              "      <td>F</td>\n",
              "      <td>5.2</td>\n",
              "      <td>Aprovado</td>\n",
              "    </tr>\n",
              "    <tr>\n",
              "      <th>David</th>\n",
              "      <td>8.8</td>\n",
              "      <td>3.5</td>\n",
              "      <td>7.6</td>\n",
              "      <td>3.3</td>\n",
              "      <td>M</td>\n",
              "      <td>5.8</td>\n",
              "      <td>Aprovado</td>\n",
              "    </tr>\n",
              "    <tr>\n",
              "      <th>Fabio</th>\n",
              "      <td>9.7</td>\n",
              "      <td>8.6</td>\n",
              "      <td>4.7</td>\n",
              "      <td>3.6</td>\n",
              "      <td>M</td>\n",
              "      <td>6.6</td>\n",
              "      <td>Aprovado</td>\n",
              "    </tr>\n",
              "    <tr>\n",
              "      <th>Gloria</th>\n",
              "      <td>5.4</td>\n",
              "      <td>7.6</td>\n",
              "      <td>9.4</td>\n",
              "      <td>6.7</td>\n",
              "      <td>F</td>\n",
              "      <td>7.3</td>\n",
              "      <td>Aprovado</td>\n",
              "    </tr>\n",
              "    <tr>\n",
              "      <th>Alice</th>\n",
              "      <td>6.8</td>\n",
              "      <td>7.4</td>\n",
              "      <td>7.9</td>\n",
              "      <td>9.1</td>\n",
              "      <td>F</td>\n",
              "      <td>7.8</td>\n",
              "      <td>Aprovado</td>\n",
              "    </tr>\n",
              "  </tbody>\n",
              "</table>\n",
              "</div>"
            ],
            "text/plain": [
              "         P1   P2   P3   P4 Sexo   MF   Situação\n",
              "Bruno   1.0  1.7  0.7  2.7    M  1.5  Reprovado\n",
              "Emily   2.2  7.0  2.9  4.7    F  4.2  Reprovado\n",
              "Carol   4.8  3.2  5.9  6.7    F  5.2   Aprovado\n",
              "David   8.8  3.5  7.6  3.3    M  5.8   Aprovado\n",
              "Fabio   9.7  8.6  4.7  3.6    M  6.6   Aprovado\n",
              "Gloria  5.4  7.6  9.4  6.7    F  7.3   Aprovado\n",
              "Alice   6.8  7.4  7.9  9.1    F  7.8   Aprovado"
            ]
          },
          "metadata": {
            "tags": []
          },
          "execution_count": 65
        }
      ]
    },
    {
      "cell_type": "code",
      "metadata": {
        "id": "iB-PjR3rlycx",
        "outputId": "5b3c4666-6592-41f7-9600-46a5856f5042",
        "colab": {
          "base_uri": "https://localhost:8080/",
          "height": 269
        }
      },
      "source": [
        "provas.sort_values('MF', ascending = False)"
      ],
      "execution_count": 66,
      "outputs": [
        {
          "output_type": "execute_result",
          "data": {
            "text/html": [
              "<div>\n",
              "<style scoped>\n",
              "    .dataframe tbody tr th:only-of-type {\n",
              "        vertical-align: middle;\n",
              "    }\n",
              "\n",
              "    .dataframe tbody tr th {\n",
              "        vertical-align: top;\n",
              "    }\n",
              "\n",
              "    .dataframe thead th {\n",
              "        text-align: right;\n",
              "    }\n",
              "</style>\n",
              "<table border=\"1\" class=\"dataframe\">\n",
              "  <thead>\n",
              "    <tr style=\"text-align: right;\">\n",
              "      <th></th>\n",
              "      <th>P1</th>\n",
              "      <th>P2</th>\n",
              "      <th>P3</th>\n",
              "      <th>P4</th>\n",
              "      <th>Sexo</th>\n",
              "      <th>MF</th>\n",
              "      <th>Situação</th>\n",
              "    </tr>\n",
              "  </thead>\n",
              "  <tbody>\n",
              "    <tr>\n",
              "      <th>Alice</th>\n",
              "      <td>6.8</td>\n",
              "      <td>7.4</td>\n",
              "      <td>7.9</td>\n",
              "      <td>9.1</td>\n",
              "      <td>F</td>\n",
              "      <td>7.8</td>\n",
              "      <td>Aprovado</td>\n",
              "    </tr>\n",
              "    <tr>\n",
              "      <th>Gloria</th>\n",
              "      <td>5.4</td>\n",
              "      <td>7.6</td>\n",
              "      <td>9.4</td>\n",
              "      <td>6.7</td>\n",
              "      <td>F</td>\n",
              "      <td>7.3</td>\n",
              "      <td>Aprovado</td>\n",
              "    </tr>\n",
              "    <tr>\n",
              "      <th>Fabio</th>\n",
              "      <td>9.7</td>\n",
              "      <td>8.6</td>\n",
              "      <td>4.7</td>\n",
              "      <td>3.6</td>\n",
              "      <td>M</td>\n",
              "      <td>6.6</td>\n",
              "      <td>Aprovado</td>\n",
              "    </tr>\n",
              "    <tr>\n",
              "      <th>David</th>\n",
              "      <td>8.8</td>\n",
              "      <td>3.5</td>\n",
              "      <td>7.6</td>\n",
              "      <td>3.3</td>\n",
              "      <td>M</td>\n",
              "      <td>5.8</td>\n",
              "      <td>Aprovado</td>\n",
              "    </tr>\n",
              "    <tr>\n",
              "      <th>Carol</th>\n",
              "      <td>4.8</td>\n",
              "      <td>3.2</td>\n",
              "      <td>5.9</td>\n",
              "      <td>6.7</td>\n",
              "      <td>F</td>\n",
              "      <td>5.2</td>\n",
              "      <td>Aprovado</td>\n",
              "    </tr>\n",
              "    <tr>\n",
              "      <th>Emily</th>\n",
              "      <td>2.2</td>\n",
              "      <td>7.0</td>\n",
              "      <td>2.9</td>\n",
              "      <td>4.7</td>\n",
              "      <td>F</td>\n",
              "      <td>4.2</td>\n",
              "      <td>Reprovado</td>\n",
              "    </tr>\n",
              "    <tr>\n",
              "      <th>Bruno</th>\n",
              "      <td>1.0</td>\n",
              "      <td>1.7</td>\n",
              "      <td>0.7</td>\n",
              "      <td>2.7</td>\n",
              "      <td>M</td>\n",
              "      <td>1.5</td>\n",
              "      <td>Reprovado</td>\n",
              "    </tr>\n",
              "  </tbody>\n",
              "</table>\n",
              "</div>"
            ],
            "text/plain": [
              "         P1   P2   P3   P4 Sexo   MF   Situação\n",
              "Alice   6.8  7.4  7.9  9.1    F  7.8   Aprovado\n",
              "Gloria  5.4  7.6  9.4  6.7    F  7.3   Aprovado\n",
              "Fabio   9.7  8.6  4.7  3.6    M  6.6   Aprovado\n",
              "David   8.8  3.5  7.6  3.3    M  5.8   Aprovado\n",
              "Carol   4.8  3.2  5.9  6.7    F  5.2   Aprovado\n",
              "Emily   2.2  7.0  2.9  4.7    F  4.2  Reprovado\n",
              "Bruno   1.0  1.7  0.7  2.7    M  1.5  Reprovado"
            ]
          },
          "metadata": {
            "tags": []
          },
          "execution_count": 66
        }
      ]
    },
    {
      "cell_type": "markdown",
      "metadata": {
        "id": "HJ3VV_g-FwvH"
      },
      "source": [
        "Tornando o índice do conjunto de dados em uma variável, e tornando o índice um valor númerico:"
      ]
    },
    {
      "cell_type": "code",
      "metadata": {
        "id": "TRItQWFCmKkl"
      },
      "source": [
        "provas['Nome'] = provas.index"
      ],
      "execution_count": 67,
      "outputs": []
    },
    {
      "cell_type": "code",
      "metadata": {
        "id": "JWh661E9F6hN",
        "outputId": "d86ec2de-03eb-4bba-e2bc-6e6b8230a042",
        "colab": {
          "base_uri": "https://localhost:8080/",
          "height": 269
        }
      },
      "source": [
        "provas"
      ],
      "execution_count": 68,
      "outputs": [
        {
          "output_type": "execute_result",
          "data": {
            "text/html": [
              "<div>\n",
              "<style scoped>\n",
              "    .dataframe tbody tr th:only-of-type {\n",
              "        vertical-align: middle;\n",
              "    }\n",
              "\n",
              "    .dataframe tbody tr th {\n",
              "        vertical-align: top;\n",
              "    }\n",
              "\n",
              "    .dataframe thead th {\n",
              "        text-align: right;\n",
              "    }\n",
              "</style>\n",
              "<table border=\"1\" class=\"dataframe\">\n",
              "  <thead>\n",
              "    <tr style=\"text-align: right;\">\n",
              "      <th></th>\n",
              "      <th>P1</th>\n",
              "      <th>P2</th>\n",
              "      <th>P3</th>\n",
              "      <th>P4</th>\n",
              "      <th>Sexo</th>\n",
              "      <th>MF</th>\n",
              "      <th>Situação</th>\n",
              "      <th>Nome</th>\n",
              "    </tr>\n",
              "  </thead>\n",
              "  <tbody>\n",
              "    <tr>\n",
              "      <th>Alice</th>\n",
              "      <td>6.8</td>\n",
              "      <td>7.4</td>\n",
              "      <td>7.9</td>\n",
              "      <td>9.1</td>\n",
              "      <td>F</td>\n",
              "      <td>7.8</td>\n",
              "      <td>Aprovado</td>\n",
              "      <td>Alice</td>\n",
              "    </tr>\n",
              "    <tr>\n",
              "      <th>Bruno</th>\n",
              "      <td>1.0</td>\n",
              "      <td>1.7</td>\n",
              "      <td>0.7</td>\n",
              "      <td>2.7</td>\n",
              "      <td>M</td>\n",
              "      <td>1.5</td>\n",
              "      <td>Reprovado</td>\n",
              "      <td>Bruno</td>\n",
              "    </tr>\n",
              "    <tr>\n",
              "      <th>Carol</th>\n",
              "      <td>4.8</td>\n",
              "      <td>3.2</td>\n",
              "      <td>5.9</td>\n",
              "      <td>6.7</td>\n",
              "      <td>F</td>\n",
              "      <td>5.2</td>\n",
              "      <td>Aprovado</td>\n",
              "      <td>Carol</td>\n",
              "    </tr>\n",
              "    <tr>\n",
              "      <th>David</th>\n",
              "      <td>8.8</td>\n",
              "      <td>3.5</td>\n",
              "      <td>7.6</td>\n",
              "      <td>3.3</td>\n",
              "      <td>M</td>\n",
              "      <td>5.8</td>\n",
              "      <td>Aprovado</td>\n",
              "      <td>David</td>\n",
              "    </tr>\n",
              "    <tr>\n",
              "      <th>Emily</th>\n",
              "      <td>2.2</td>\n",
              "      <td>7.0</td>\n",
              "      <td>2.9</td>\n",
              "      <td>4.7</td>\n",
              "      <td>F</td>\n",
              "      <td>4.2</td>\n",
              "      <td>Reprovado</td>\n",
              "      <td>Emily</td>\n",
              "    </tr>\n",
              "    <tr>\n",
              "      <th>Fabio</th>\n",
              "      <td>9.7</td>\n",
              "      <td>8.6</td>\n",
              "      <td>4.7</td>\n",
              "      <td>3.6</td>\n",
              "      <td>M</td>\n",
              "      <td>6.6</td>\n",
              "      <td>Aprovado</td>\n",
              "      <td>Fabio</td>\n",
              "    </tr>\n",
              "    <tr>\n",
              "      <th>Gloria</th>\n",
              "      <td>5.4</td>\n",
              "      <td>7.6</td>\n",
              "      <td>9.4</td>\n",
              "      <td>6.7</td>\n",
              "      <td>F</td>\n",
              "      <td>7.3</td>\n",
              "      <td>Aprovado</td>\n",
              "      <td>Gloria</td>\n",
              "    </tr>\n",
              "  </tbody>\n",
              "</table>\n",
              "</div>"
            ],
            "text/plain": [
              "         P1   P2   P3   P4 Sexo   MF   Situação    Nome\n",
              "Alice   6.8  7.4  7.9  9.1    F  7.8   Aprovado   Alice\n",
              "Bruno   1.0  1.7  0.7  2.7    M  1.5  Reprovado   Bruno\n",
              "Carol   4.8  3.2  5.9  6.7    F  5.2   Aprovado   Carol\n",
              "David   8.8  3.5  7.6  3.3    M  5.8   Aprovado   David\n",
              "Emily   2.2  7.0  2.9  4.7    F  4.2  Reprovado   Emily\n",
              "Fabio   9.7  8.6  4.7  3.6    M  6.6   Aprovado   Fabio\n",
              "Gloria  5.4  7.6  9.4  6.7    F  7.3   Aprovado  Gloria"
            ]
          },
          "metadata": {
            "tags": []
          },
          "execution_count": 68
        }
      ]
    },
    {
      "cell_type": "code",
      "metadata": {
        "id": "_RtzVrb6ktDZ"
      },
      "source": [
        "provas.reset_index(inplace = True, drop = True) #o argumento inplace pergunta se a alteração deve ser feita no conjunto de dados "
      ],
      "execution_count": 69,
      "outputs": []
    },
    {
      "cell_type": "code",
      "metadata": {
        "id": "FVhtIyX6F98b",
        "outputId": "783cb6c7-2cea-44da-f991-49613ffc4c15",
        "colab": {
          "base_uri": "https://localhost:8080/",
          "height": 269
        }
      },
      "source": [
        "provas"
      ],
      "execution_count": 70,
      "outputs": [
        {
          "output_type": "execute_result",
          "data": {
            "text/html": [
              "<div>\n",
              "<style scoped>\n",
              "    .dataframe tbody tr th:only-of-type {\n",
              "        vertical-align: middle;\n",
              "    }\n",
              "\n",
              "    .dataframe tbody tr th {\n",
              "        vertical-align: top;\n",
              "    }\n",
              "\n",
              "    .dataframe thead th {\n",
              "        text-align: right;\n",
              "    }\n",
              "</style>\n",
              "<table border=\"1\" class=\"dataframe\">\n",
              "  <thead>\n",
              "    <tr style=\"text-align: right;\">\n",
              "      <th></th>\n",
              "      <th>P1</th>\n",
              "      <th>P2</th>\n",
              "      <th>P3</th>\n",
              "      <th>P4</th>\n",
              "      <th>Sexo</th>\n",
              "      <th>MF</th>\n",
              "      <th>Situação</th>\n",
              "      <th>Nome</th>\n",
              "    </tr>\n",
              "  </thead>\n",
              "  <tbody>\n",
              "    <tr>\n",
              "      <th>0</th>\n",
              "      <td>6.8</td>\n",
              "      <td>7.4</td>\n",
              "      <td>7.9</td>\n",
              "      <td>9.1</td>\n",
              "      <td>F</td>\n",
              "      <td>7.8</td>\n",
              "      <td>Aprovado</td>\n",
              "      <td>Alice</td>\n",
              "    </tr>\n",
              "    <tr>\n",
              "      <th>1</th>\n",
              "      <td>1.0</td>\n",
              "      <td>1.7</td>\n",
              "      <td>0.7</td>\n",
              "      <td>2.7</td>\n",
              "      <td>M</td>\n",
              "      <td>1.5</td>\n",
              "      <td>Reprovado</td>\n",
              "      <td>Bruno</td>\n",
              "    </tr>\n",
              "    <tr>\n",
              "      <th>2</th>\n",
              "      <td>4.8</td>\n",
              "      <td>3.2</td>\n",
              "      <td>5.9</td>\n",
              "      <td>6.7</td>\n",
              "      <td>F</td>\n",
              "      <td>5.2</td>\n",
              "      <td>Aprovado</td>\n",
              "      <td>Carol</td>\n",
              "    </tr>\n",
              "    <tr>\n",
              "      <th>3</th>\n",
              "      <td>8.8</td>\n",
              "      <td>3.5</td>\n",
              "      <td>7.6</td>\n",
              "      <td>3.3</td>\n",
              "      <td>M</td>\n",
              "      <td>5.8</td>\n",
              "      <td>Aprovado</td>\n",
              "      <td>David</td>\n",
              "    </tr>\n",
              "    <tr>\n",
              "      <th>4</th>\n",
              "      <td>2.2</td>\n",
              "      <td>7.0</td>\n",
              "      <td>2.9</td>\n",
              "      <td>4.7</td>\n",
              "      <td>F</td>\n",
              "      <td>4.2</td>\n",
              "      <td>Reprovado</td>\n",
              "      <td>Emily</td>\n",
              "    </tr>\n",
              "    <tr>\n",
              "      <th>5</th>\n",
              "      <td>9.7</td>\n",
              "      <td>8.6</td>\n",
              "      <td>4.7</td>\n",
              "      <td>3.6</td>\n",
              "      <td>M</td>\n",
              "      <td>6.6</td>\n",
              "      <td>Aprovado</td>\n",
              "      <td>Fabio</td>\n",
              "    </tr>\n",
              "    <tr>\n",
              "      <th>6</th>\n",
              "      <td>5.4</td>\n",
              "      <td>7.6</td>\n",
              "      <td>9.4</td>\n",
              "      <td>6.7</td>\n",
              "      <td>F</td>\n",
              "      <td>7.3</td>\n",
              "      <td>Aprovado</td>\n",
              "      <td>Gloria</td>\n",
              "    </tr>\n",
              "  </tbody>\n",
              "</table>\n",
              "</div>"
            ],
            "text/plain": [
              "    P1   P2   P3   P4 Sexo   MF   Situação    Nome\n",
              "0  6.8  7.4  7.9  9.1    F  7.8   Aprovado   Alice\n",
              "1  1.0  1.7  0.7  2.7    M  1.5  Reprovado   Bruno\n",
              "2  4.8  3.2  5.9  6.7    F  5.2   Aprovado   Carol\n",
              "3  8.8  3.5  7.6  3.3    M  5.8   Aprovado   David\n",
              "4  2.2  7.0  2.9  4.7    F  4.2  Reprovado   Emily\n",
              "5  9.7  8.6  4.7  3.6    M  6.6   Aprovado   Fabio\n",
              "6  5.4  7.6  9.4  6.7    F  7.3   Aprovado  Gloria"
            ]
          },
          "metadata": {
            "tags": []
          },
          "execution_count": 70
        }
      ]
    },
    {
      "cell_type": "markdown",
      "metadata": {
        "id": "rlIuOcZHGI08"
      },
      "source": [
        "Modificando a ordem das variáveis:"
      ]
    },
    {
      "cell_type": "code",
      "metadata": {
        "id": "UiJV4LIymZdK"
      },
      "source": [
        "provas = provas[['Nome', 'Sexo', 'P1', 'P2', 'P3', 'P4', 'MF', 'Situação']]"
      ],
      "execution_count": 71,
      "outputs": []
    },
    {
      "cell_type": "code",
      "metadata": {
        "id": "_SWTfzNhGQiI",
        "outputId": "bfb6b9bd-f953-459d-ee3f-fd2fbe6eec7c",
        "colab": {
          "base_uri": "https://localhost:8080/",
          "height": 269
        }
      },
      "source": [
        "provas"
      ],
      "execution_count": 72,
      "outputs": [
        {
          "output_type": "execute_result",
          "data": {
            "text/html": [
              "<div>\n",
              "<style scoped>\n",
              "    .dataframe tbody tr th:only-of-type {\n",
              "        vertical-align: middle;\n",
              "    }\n",
              "\n",
              "    .dataframe tbody tr th {\n",
              "        vertical-align: top;\n",
              "    }\n",
              "\n",
              "    .dataframe thead th {\n",
              "        text-align: right;\n",
              "    }\n",
              "</style>\n",
              "<table border=\"1\" class=\"dataframe\">\n",
              "  <thead>\n",
              "    <tr style=\"text-align: right;\">\n",
              "      <th></th>\n",
              "      <th>Nome</th>\n",
              "      <th>Sexo</th>\n",
              "      <th>P1</th>\n",
              "      <th>P2</th>\n",
              "      <th>P3</th>\n",
              "      <th>P4</th>\n",
              "      <th>MF</th>\n",
              "      <th>Situação</th>\n",
              "    </tr>\n",
              "  </thead>\n",
              "  <tbody>\n",
              "    <tr>\n",
              "      <th>0</th>\n",
              "      <td>Alice</td>\n",
              "      <td>F</td>\n",
              "      <td>6.8</td>\n",
              "      <td>7.4</td>\n",
              "      <td>7.9</td>\n",
              "      <td>9.1</td>\n",
              "      <td>7.8</td>\n",
              "      <td>Aprovado</td>\n",
              "    </tr>\n",
              "    <tr>\n",
              "      <th>1</th>\n",
              "      <td>Bruno</td>\n",
              "      <td>M</td>\n",
              "      <td>1.0</td>\n",
              "      <td>1.7</td>\n",
              "      <td>0.7</td>\n",
              "      <td>2.7</td>\n",
              "      <td>1.5</td>\n",
              "      <td>Reprovado</td>\n",
              "    </tr>\n",
              "    <tr>\n",
              "      <th>2</th>\n",
              "      <td>Carol</td>\n",
              "      <td>F</td>\n",
              "      <td>4.8</td>\n",
              "      <td>3.2</td>\n",
              "      <td>5.9</td>\n",
              "      <td>6.7</td>\n",
              "      <td>5.2</td>\n",
              "      <td>Aprovado</td>\n",
              "    </tr>\n",
              "    <tr>\n",
              "      <th>3</th>\n",
              "      <td>David</td>\n",
              "      <td>M</td>\n",
              "      <td>8.8</td>\n",
              "      <td>3.5</td>\n",
              "      <td>7.6</td>\n",
              "      <td>3.3</td>\n",
              "      <td>5.8</td>\n",
              "      <td>Aprovado</td>\n",
              "    </tr>\n",
              "    <tr>\n",
              "      <th>4</th>\n",
              "      <td>Emily</td>\n",
              "      <td>F</td>\n",
              "      <td>2.2</td>\n",
              "      <td>7.0</td>\n",
              "      <td>2.9</td>\n",
              "      <td>4.7</td>\n",
              "      <td>4.2</td>\n",
              "      <td>Reprovado</td>\n",
              "    </tr>\n",
              "    <tr>\n",
              "      <th>5</th>\n",
              "      <td>Fabio</td>\n",
              "      <td>M</td>\n",
              "      <td>9.7</td>\n",
              "      <td>8.6</td>\n",
              "      <td>4.7</td>\n",
              "      <td>3.6</td>\n",
              "      <td>6.6</td>\n",
              "      <td>Aprovado</td>\n",
              "    </tr>\n",
              "    <tr>\n",
              "      <th>6</th>\n",
              "      <td>Gloria</td>\n",
              "      <td>F</td>\n",
              "      <td>5.4</td>\n",
              "      <td>7.6</td>\n",
              "      <td>9.4</td>\n",
              "      <td>6.7</td>\n",
              "      <td>7.3</td>\n",
              "      <td>Aprovado</td>\n",
              "    </tr>\n",
              "  </tbody>\n",
              "</table>\n",
              "</div>"
            ],
            "text/plain": [
              "     Nome Sexo   P1   P2   P3   P4   MF   Situação\n",
              "0   Alice    F  6.8  7.4  7.9  9.1  7.8   Aprovado\n",
              "1   Bruno    M  1.0  1.7  0.7  2.7  1.5  Reprovado\n",
              "2   Carol    F  4.8  3.2  5.9  6.7  5.2   Aprovado\n",
              "3   David    M  8.8  3.5  7.6  3.3  5.8   Aprovado\n",
              "4   Emily    F  2.2  7.0  2.9  4.7  4.2  Reprovado\n",
              "5   Fabio    M  9.7  8.6  4.7  3.6  6.6   Aprovado\n",
              "6  Gloria    F  5.4  7.6  9.4  6.7  7.3   Aprovado"
            ]
          },
          "metadata": {
            "tags": []
          },
          "execution_count": 72
        }
      ]
    },
    {
      "cell_type": "markdown",
      "metadata": {
        "id": "HRoHZH6dG7Xg"
      },
      "source": [
        "Desfazendo o que fizemos anteriormente (voltando a variável nome para o index)"
      ]
    },
    {
      "cell_type": "code",
      "metadata": {
        "id": "DLd7msxXHAB4"
      },
      "source": [
        "provas.index = provas['Nome']"
      ],
      "execution_count": 73,
      "outputs": []
    },
    {
      "cell_type": "code",
      "metadata": {
        "id": "bfvG2hf-HMts",
        "outputId": "f3d1c8fd-d3c0-42e1-d549-7db6f416d5e9",
        "colab": {
          "base_uri": "https://localhost:8080/",
          "height": 300
        }
      },
      "source": [
        "provas"
      ],
      "execution_count": 74,
      "outputs": [
        {
          "output_type": "execute_result",
          "data": {
            "text/html": [
              "<div>\n",
              "<style scoped>\n",
              "    .dataframe tbody tr th:only-of-type {\n",
              "        vertical-align: middle;\n",
              "    }\n",
              "\n",
              "    .dataframe tbody tr th {\n",
              "        vertical-align: top;\n",
              "    }\n",
              "\n",
              "    .dataframe thead th {\n",
              "        text-align: right;\n",
              "    }\n",
              "</style>\n",
              "<table border=\"1\" class=\"dataframe\">\n",
              "  <thead>\n",
              "    <tr style=\"text-align: right;\">\n",
              "      <th></th>\n",
              "      <th>Nome</th>\n",
              "      <th>Sexo</th>\n",
              "      <th>P1</th>\n",
              "      <th>P2</th>\n",
              "      <th>P3</th>\n",
              "      <th>P4</th>\n",
              "      <th>MF</th>\n",
              "      <th>Situação</th>\n",
              "    </tr>\n",
              "    <tr>\n",
              "      <th>Nome</th>\n",
              "      <th></th>\n",
              "      <th></th>\n",
              "      <th></th>\n",
              "      <th></th>\n",
              "      <th></th>\n",
              "      <th></th>\n",
              "      <th></th>\n",
              "      <th></th>\n",
              "    </tr>\n",
              "  </thead>\n",
              "  <tbody>\n",
              "    <tr>\n",
              "      <th>Alice</th>\n",
              "      <td>Alice</td>\n",
              "      <td>F</td>\n",
              "      <td>6.8</td>\n",
              "      <td>7.4</td>\n",
              "      <td>7.9</td>\n",
              "      <td>9.1</td>\n",
              "      <td>7.8</td>\n",
              "      <td>Aprovado</td>\n",
              "    </tr>\n",
              "    <tr>\n",
              "      <th>Bruno</th>\n",
              "      <td>Bruno</td>\n",
              "      <td>M</td>\n",
              "      <td>1.0</td>\n",
              "      <td>1.7</td>\n",
              "      <td>0.7</td>\n",
              "      <td>2.7</td>\n",
              "      <td>1.5</td>\n",
              "      <td>Reprovado</td>\n",
              "    </tr>\n",
              "    <tr>\n",
              "      <th>Carol</th>\n",
              "      <td>Carol</td>\n",
              "      <td>F</td>\n",
              "      <td>4.8</td>\n",
              "      <td>3.2</td>\n",
              "      <td>5.9</td>\n",
              "      <td>6.7</td>\n",
              "      <td>5.2</td>\n",
              "      <td>Aprovado</td>\n",
              "    </tr>\n",
              "    <tr>\n",
              "      <th>David</th>\n",
              "      <td>David</td>\n",
              "      <td>M</td>\n",
              "      <td>8.8</td>\n",
              "      <td>3.5</td>\n",
              "      <td>7.6</td>\n",
              "      <td>3.3</td>\n",
              "      <td>5.8</td>\n",
              "      <td>Aprovado</td>\n",
              "    </tr>\n",
              "    <tr>\n",
              "      <th>Emily</th>\n",
              "      <td>Emily</td>\n",
              "      <td>F</td>\n",
              "      <td>2.2</td>\n",
              "      <td>7.0</td>\n",
              "      <td>2.9</td>\n",
              "      <td>4.7</td>\n",
              "      <td>4.2</td>\n",
              "      <td>Reprovado</td>\n",
              "    </tr>\n",
              "    <tr>\n",
              "      <th>Fabio</th>\n",
              "      <td>Fabio</td>\n",
              "      <td>M</td>\n",
              "      <td>9.7</td>\n",
              "      <td>8.6</td>\n",
              "      <td>4.7</td>\n",
              "      <td>3.6</td>\n",
              "      <td>6.6</td>\n",
              "      <td>Aprovado</td>\n",
              "    </tr>\n",
              "    <tr>\n",
              "      <th>Gloria</th>\n",
              "      <td>Gloria</td>\n",
              "      <td>F</td>\n",
              "      <td>5.4</td>\n",
              "      <td>7.6</td>\n",
              "      <td>9.4</td>\n",
              "      <td>6.7</td>\n",
              "      <td>7.3</td>\n",
              "      <td>Aprovado</td>\n",
              "    </tr>\n",
              "  </tbody>\n",
              "</table>\n",
              "</div>"
            ],
            "text/plain": [
              "          Nome Sexo   P1   P2   P3   P4   MF   Situação\n",
              "Nome                                                   \n",
              "Alice    Alice    F  6.8  7.4  7.9  9.1  7.8   Aprovado\n",
              "Bruno    Bruno    M  1.0  1.7  0.7  2.7  1.5  Reprovado\n",
              "Carol    Carol    F  4.8  3.2  5.9  6.7  5.2   Aprovado\n",
              "David    David    M  8.8  3.5  7.6  3.3  5.8   Aprovado\n",
              "Emily    Emily    F  2.2  7.0  2.9  4.7  4.2  Reprovado\n",
              "Fabio    Fabio    M  9.7  8.6  4.7  3.6  6.6   Aprovado\n",
              "Gloria  Gloria    F  5.4  7.6  9.4  6.7  7.3   Aprovado"
            ]
          },
          "metadata": {
            "tags": []
          },
          "execution_count": 74
        }
      ]
    },
    {
      "cell_type": "code",
      "metadata": {
        "id": "BThc7k0oHPD1"
      },
      "source": [
        "provas.drop('Nome', axis = 1, inplace = True)"
      ],
      "execution_count": null,
      "outputs": []
    },
    {
      "cell_type": "code",
      "metadata": {
        "id": "NoBmCaayHU3r",
        "outputId": "38f3c053-36c7-43b6-a43b-27b919665116",
        "colab": {
          "base_uri": "https://localhost:8080/",
          "height": 300
        }
      },
      "source": [
        "provas"
      ],
      "execution_count": 78,
      "outputs": [
        {
          "output_type": "execute_result",
          "data": {
            "text/html": [
              "<div>\n",
              "<style scoped>\n",
              "    .dataframe tbody tr th:only-of-type {\n",
              "        vertical-align: middle;\n",
              "    }\n",
              "\n",
              "    .dataframe tbody tr th {\n",
              "        vertical-align: top;\n",
              "    }\n",
              "\n",
              "    .dataframe thead th {\n",
              "        text-align: right;\n",
              "    }\n",
              "</style>\n",
              "<table border=\"1\" class=\"dataframe\">\n",
              "  <thead>\n",
              "    <tr style=\"text-align: right;\">\n",
              "      <th></th>\n",
              "      <th>Sexo</th>\n",
              "      <th>P1</th>\n",
              "      <th>P2</th>\n",
              "      <th>P3</th>\n",
              "      <th>P4</th>\n",
              "      <th>MF</th>\n",
              "      <th>Situação</th>\n",
              "    </tr>\n",
              "    <tr>\n",
              "      <th>Nome</th>\n",
              "      <th></th>\n",
              "      <th></th>\n",
              "      <th></th>\n",
              "      <th></th>\n",
              "      <th></th>\n",
              "      <th></th>\n",
              "      <th></th>\n",
              "    </tr>\n",
              "  </thead>\n",
              "  <tbody>\n",
              "    <tr>\n",
              "      <th>Alice</th>\n",
              "      <td>F</td>\n",
              "      <td>6.8</td>\n",
              "      <td>7.4</td>\n",
              "      <td>7.9</td>\n",
              "      <td>9.1</td>\n",
              "      <td>7.8</td>\n",
              "      <td>Aprovado</td>\n",
              "    </tr>\n",
              "    <tr>\n",
              "      <th>Bruno</th>\n",
              "      <td>M</td>\n",
              "      <td>1.0</td>\n",
              "      <td>1.7</td>\n",
              "      <td>0.7</td>\n",
              "      <td>2.7</td>\n",
              "      <td>1.5</td>\n",
              "      <td>Reprovado</td>\n",
              "    </tr>\n",
              "    <tr>\n",
              "      <th>Carol</th>\n",
              "      <td>F</td>\n",
              "      <td>4.8</td>\n",
              "      <td>3.2</td>\n",
              "      <td>5.9</td>\n",
              "      <td>6.7</td>\n",
              "      <td>5.2</td>\n",
              "      <td>Aprovado</td>\n",
              "    </tr>\n",
              "    <tr>\n",
              "      <th>David</th>\n",
              "      <td>M</td>\n",
              "      <td>8.8</td>\n",
              "      <td>3.5</td>\n",
              "      <td>7.6</td>\n",
              "      <td>3.3</td>\n",
              "      <td>5.8</td>\n",
              "      <td>Aprovado</td>\n",
              "    </tr>\n",
              "    <tr>\n",
              "      <th>Emily</th>\n",
              "      <td>F</td>\n",
              "      <td>2.2</td>\n",
              "      <td>7.0</td>\n",
              "      <td>2.9</td>\n",
              "      <td>4.7</td>\n",
              "      <td>4.2</td>\n",
              "      <td>Reprovado</td>\n",
              "    </tr>\n",
              "    <tr>\n",
              "      <th>Fabio</th>\n",
              "      <td>M</td>\n",
              "      <td>9.7</td>\n",
              "      <td>8.6</td>\n",
              "      <td>4.7</td>\n",
              "      <td>3.6</td>\n",
              "      <td>6.6</td>\n",
              "      <td>Aprovado</td>\n",
              "    </tr>\n",
              "    <tr>\n",
              "      <th>Gloria</th>\n",
              "      <td>F</td>\n",
              "      <td>5.4</td>\n",
              "      <td>7.6</td>\n",
              "      <td>9.4</td>\n",
              "      <td>6.7</td>\n",
              "      <td>7.3</td>\n",
              "      <td>Aprovado</td>\n",
              "    </tr>\n",
              "  </tbody>\n",
              "</table>\n",
              "</div>"
            ],
            "text/plain": [
              "       Sexo   P1   P2   P3   P4   MF   Situação\n",
              "Nome                                           \n",
              "Alice     F  6.8  7.4  7.9  9.1  7.8   Aprovado\n",
              "Bruno     M  1.0  1.7  0.7  2.7  1.5  Reprovado\n",
              "Carol     F  4.8  3.2  5.9  6.7  5.2   Aprovado\n",
              "David     M  8.8  3.5  7.6  3.3  5.8   Aprovado\n",
              "Emily     F  2.2  7.0  2.9  4.7  4.2  Reprovado\n",
              "Fabio     M  9.7  8.6  4.7  3.6  6.6   Aprovado\n",
              "Gloria    F  5.4  7.6  9.4  6.7  7.3   Aprovado"
            ]
          },
          "metadata": {
            "tags": []
          },
          "execution_count": 78
        }
      ]
    },
    {
      "cell_type": "markdown",
      "metadata": {
        "id": "EW1rvABvHwbT"
      },
      "source": [
        "O método describe pode ser utilizado em variáveis categóricas, e tem uma saída diferente nesse caso:"
      ]
    },
    {
      "cell_type": "code",
      "metadata": {
        "id": "cPutz2ryrbaC",
        "outputId": "c10a91a2-901a-4cda-e824-207e63e876a1",
        "colab": {
          "base_uri": "https://localhost:8080/"
        }
      },
      "source": [
        "provas['Situação'].describe()"
      ],
      "execution_count": 79,
      "outputs": [
        {
          "output_type": "execute_result",
          "data": {
            "text/plain": [
              "count            7\n",
              "unique           2\n",
              "top       Aprovado\n",
              "freq             5\n",
              "Name: Situação, dtype: object"
            ]
          },
          "metadata": {
            "tags": []
          },
          "execution_count": 79
        }
      ]
    },
    {
      "cell_type": "markdown",
      "metadata": {
        "id": "6YHr6EsIH6Nf"
      },
      "source": [
        "O Pandas também oferece suporte a alguns gráficos, baseados na biblioteca matplotlib. Basta chamar o método utilizando os dados adequados:"
      ]
    },
    {
      "cell_type": "code",
      "metadata": {
        "id": "pQXtJEz0mN-N",
        "outputId": "a2e990ec-dc3f-41d1-8b02-0572084f659d",
        "colab": {
          "base_uri": "https://localhost:8080/",
          "height": 248
        }
      },
      "source": [
        "provas['Situação'].value_counts().plot(kind = 'pie') ;"
      ],
      "execution_count": 81,
      "outputs": [
        {
          "output_type": "display_data",
          "data": {
            "image/png": "[encoded data removed]",
            "text/plain": [
              "<Figure size 432x288 with 1 Axes>"
            ]
          },
          "metadata": {
            "tags": []
          }
        }
      ]
    },
    {
      "cell_type": "code",
      "metadata": {
        "id": "dbGnT8HFs8uC",
        "outputId": "e3653088-75b5-466a-db4a-722306959552",
        "colab": {
          "base_uri": "https://localhost:8080/",
          "height": 308
        }
      },
      "source": [
        "provas['Situação'].value_counts().plot(kind = 'bar', color = ['green', 'red']) ;"
      ],
      "execution_count": 82,
      "outputs": [
        {
          "output_type": "display_data",
          "data": {
            "image/png": "[encoded data removed]",
            "text/plain": [
              "<Figure size 432x288 with 1 Axes>"
            ]
          },
          "metadata": {
            "tags": [],
            "needs_background": "light"
          }
        }
      ]
    },
    {
      "cell_type": "code",
      "metadata": {
        "id": "ugpWbVU8tF6b",
        "outputId": "0f15e330-0ccf-4add-f064-6840514a1b80",
        "colab": {
          "base_uri": "https://localhost:8080/",
          "height": 266
        }
      },
      "source": [
        "provas[['P1', 'P2', 'P3', 'P4', 'MF']].plot(kind = 'box');"
      ],
      "execution_count": 83,
      "outputs": [
        {
          "output_type": "display_data",
          "data": {
            "image/png": "[encoded data removed]",
            "text/plain": [
              "<Figure size 432x288 with 1 Axes>"
            ]
          },
          "metadata": {
            "tags": [],
            "needs_background": "light"
          }
        }
      ]
    },
    {
      "cell_type": "code",
      "metadata": {
        "id": "9yRsgmvrtQsq",
        "outputId": "898b461e-756c-4ee4-ab64-198da1cec7c2",
        "colab": {
          "base_uri": "https://localhost:8080/",
          "height": 266
        }
      },
      "source": [
        "provas[['P1', 'P2', 'P3', 'P4']].transpose().plot(kind = 'line');"
      ],
      "execution_count": 84,
      "outputs": [
        {
          "output_type": "display_data",
          "data": {
            "image/png": "[encoded data removed]",
            "text/plain": [
              "<Figure size 432x288 with 1 Axes>"
            ]
          },
          "metadata": {
            "tags": [],
            "needs_background": "light"
          }
        }
      ]
    },
    {
      "cell_type": "markdown",
      "metadata": {
        "id": "nF05Iyd9u2ZF"
      },
      "source": [
        "Calculando correlação"
      ]
    },
    {
      "cell_type": "code",
      "metadata": {
        "id": "fAH1njuAtcP5",
        "outputId": "88172351-11db-4505-bf39-6b765e864b18",
        "colab": {
          "base_uri": "https://localhost:8080/",
          "height": 206
        }
      },
      "source": [
        "provas[['P1', 'P2','P3','P4','MF' ]].corr().round(2) "
      ],
      "execution_count": 85,
      "outputs": [
        {
          "output_type": "execute_result",
          "data": {
            "text/html": [
              "<div>\n",
              "<style scoped>\n",
              "    .dataframe tbody tr th:only-of-type {\n",
              "        vertical-align: middle;\n",
              "    }\n",
              "\n",
              "    .dataframe tbody tr th {\n",
              "        vertical-align: top;\n",
              "    }\n",
              "\n",
              "    .dataframe thead th {\n",
              "        text-align: right;\n",
              "    }\n",
              "</style>\n",
              "<table border=\"1\" class=\"dataframe\">\n",
              "  <thead>\n",
              "    <tr style=\"text-align: right;\">\n",
              "      <th></th>\n",
              "      <th>P1</th>\n",
              "      <th>P2</th>\n",
              "      <th>P3</th>\n",
              "      <th>P4</th>\n",
              "      <th>MF</th>\n",
              "    </tr>\n",
              "  </thead>\n",
              "  <tbody>\n",
              "    <tr>\n",
              "      <th>P1</th>\n",
              "      <td>1.00</td>\n",
              "      <td>0.43</td>\n",
              "      <td>0.62</td>\n",
              "      <td>0.08</td>\n",
              "      <td>0.75</td>\n",
              "    </tr>\n",
              "    <tr>\n",
              "      <th>P2</th>\n",
              "      <td>0.43</td>\n",
              "      <td>1.00</td>\n",
              "      <td>0.39</td>\n",
              "      <td>0.39</td>\n",
              "      <td>0.72</td>\n",
              "    </tr>\n",
              "    <tr>\n",
              "      <th>P3</th>\n",
              "      <td>0.62</td>\n",
              "      <td>0.39</td>\n",
              "      <td>1.00</td>\n",
              "      <td>0.62</td>\n",
              "      <td>0.88</td>\n",
              "    </tr>\n",
              "    <tr>\n",
              "      <th>P4</th>\n",
              "      <td>0.08</td>\n",
              "      <td>0.39</td>\n",
              "      <td>0.62</td>\n",
              "      <td>1.00</td>\n",
              "      <td>0.65</td>\n",
              "    </tr>\n",
              "    <tr>\n",
              "      <th>MF</th>\n",
              "      <td>0.75</td>\n",
              "      <td>0.72</td>\n",
              "      <td>0.88</td>\n",
              "      <td>0.65</td>\n",
              "      <td>1.00</td>\n",
              "    </tr>\n",
              "  </tbody>\n",
              "</table>\n",
              "</div>"
            ],
            "text/plain": [
              "      P1    P2    P3    P4    MF\n",
              "P1  1.00  0.43  0.62  0.08  0.75\n",
              "P2  0.43  1.00  0.39  0.39  0.72\n",
              "P3  0.62  0.39  1.00  0.62  0.88\n",
              "P4  0.08  0.39  0.62  1.00  0.65\n",
              "MF  0.75  0.72  0.88  0.65  1.00"
            ]
          },
          "metadata": {
            "tags": []
          },
          "execution_count": 85
        }
      ]
    },
    {
      "cell_type": "markdown",
      "metadata": {
        "id": "kZ1oSvUHgOnv"
      },
      "source": [
        "## **O Método GroupBy**  <a name=\"grou\"></a>"
      ]
    },
    {
      "cell_type": "markdown",
      "metadata": {
        "id": "KJD1EwmpaFNE"
      },
      "source": [
        "O groupby é útil quando queremos agregar uma informação e ter o seu resumo por grupos. Ela simplifica o trabalho que fizemos nesse notebook até agora. Veja os exemplos."
      ]
    },
    {
      "cell_type": "code",
      "metadata": {
        "id": "OYv3fpebwRCH",
        "outputId": "4fc0c03b-ff31-453f-a035-88455eb49c55",
        "colab": {
          "base_uri": "https://localhost:8080/"
        }
      },
      "source": [
        "provas['MF'].groupby(provas['Situação']).mean()"
      ],
      "execution_count": 88,
      "outputs": [
        {
          "output_type": "execute_result",
          "data": {
            "text/plain": [
              "Situação\n",
              "Aprovado     6.54\n",
              "Reprovado    2.85\n",
              "Name: MF, dtype: float64"
            ]
          },
          "metadata": {
            "tags": []
          },
          "execution_count": 88
        }
      ]
    },
    {
      "cell_type": "markdown",
      "metadata": {
        "id": "Bg9zaYIXybeJ"
      },
      "source": [
        "É equivalente a:"
      ]
    },
    {
      "cell_type": "code",
      "metadata": {
        "id": "kXPOMlguwYbL",
        "outputId": "00e80781-38a1-4dae-8e31-593066a29f6e",
        "colab": {
          "base_uri": "https://localhost:8080/"
        }
      },
      "source": [
        "provas[ provas['Situação'] == 'Aprovado' ]['MF'].mean()"
      ],
      "execution_count": 93,
      "outputs": [
        {
          "output_type": "execute_result",
          "data": {
            "text/plain": [
              "6.539999999999999"
            ]
          },
          "metadata": {
            "tags": []
          },
          "execution_count": 93
        }
      ]
    },
    {
      "cell_type": "code",
      "metadata": {
        "id": "f5VM5cktwZgR",
        "outputId": "705f26c1-2394-4ec7-dc45-4913ccaf81b9",
        "colab": {
          "base_uri": "https://localhost:8080/"
        }
      },
      "source": [
        "provas[ provas['Situação'] == 'Reprovado' ]['MF'].mean()"
      ],
      "execution_count": 94,
      "outputs": [
        {
          "output_type": "execute_result",
          "data": {
            "text/plain": [
              "2.85"
            ]
          },
          "metadata": {
            "tags": []
          },
          "execution_count": 94
        }
      ]
    },
    {
      "cell_type": "markdown",
      "metadata": {
        "id": "Bv-a4DrdyeQL"
      },
      "source": [
        "Veja outros exemplos "
      ]
    },
    {
      "cell_type": "code",
      "metadata": {
        "id": "MTiisxwkyf-M",
        "outputId": "1dcadf78-f96d-410c-e3e7-71611c827aa4",
        "colab": {
          "base_uri": "https://localhost:8080/",
          "height": 143
        }
      },
      "source": [
        "provas['MF'].groupby(provas['Sexo']).describe()"
      ],
      "execution_count": 97,
      "outputs": [
        {
          "output_type": "execute_result",
          "data": {
            "text/html": [
              "<div>\n",
              "<style scoped>\n",
              "    .dataframe tbody tr th:only-of-type {\n",
              "        vertical-align: middle;\n",
              "    }\n",
              "\n",
              "    .dataframe tbody tr th {\n",
              "        vertical-align: top;\n",
              "    }\n",
              "\n",
              "    .dataframe thead th {\n",
              "        text-align: right;\n",
              "    }\n",
              "</style>\n",
              "<table border=\"1\" class=\"dataframe\">\n",
              "  <thead>\n",
              "    <tr style=\"text-align: right;\">\n",
              "      <th></th>\n",
              "      <th>count</th>\n",
              "      <th>mean</th>\n",
              "      <th>std</th>\n",
              "      <th>min</th>\n",
              "      <th>25%</th>\n",
              "      <th>50%</th>\n",
              "      <th>75%</th>\n",
              "      <th>max</th>\n",
              "    </tr>\n",
              "    <tr>\n",
              "      <th>Sexo</th>\n",
              "      <th></th>\n",
              "      <th></th>\n",
              "      <th></th>\n",
              "      <th></th>\n",
              "      <th></th>\n",
              "      <th></th>\n",
              "      <th></th>\n",
              "      <th></th>\n",
              "    </tr>\n",
              "  </thead>\n",
              "  <tbody>\n",
              "    <tr>\n",
              "      <th>F</th>\n",
              "      <td>4.0</td>\n",
              "      <td>6.125000</td>\n",
              "      <td>1.707581</td>\n",
              "      <td>4.2</td>\n",
              "      <td>4.95</td>\n",
              "      <td>6.25</td>\n",
              "      <td>7.425</td>\n",
              "      <td>7.8</td>\n",
              "    </tr>\n",
              "    <tr>\n",
              "      <th>M</th>\n",
              "      <td>3.0</td>\n",
              "      <td>4.633333</td>\n",
              "      <td>2.742870</td>\n",
              "      <td>1.5</td>\n",
              "      <td>3.65</td>\n",
              "      <td>5.80</td>\n",
              "      <td>6.200</td>\n",
              "      <td>6.6</td>\n",
              "    </tr>\n",
              "  </tbody>\n",
              "</table>\n",
              "</div>"
            ],
            "text/plain": [
              "      count      mean       std  min   25%   50%    75%  max\n",
              "Sexo                                                        \n",
              "F       4.0  6.125000  1.707581  4.2  4.95  6.25  7.425  7.8\n",
              "M       3.0  4.633333  2.742870  1.5  3.65  5.80  6.200  6.6"
            ]
          },
          "metadata": {
            "tags": []
          },
          "execution_count": 97
        }
      ]
    },
    {
      "cell_type": "code",
      "metadata": {
        "id": "SCHHcxvryjg7",
        "outputId": "9d3c700d-194a-4344-990c-82b1e8cae9c4",
        "colab": {
          "base_uri": "https://localhost:8080/",
          "height": 143
        }
      },
      "source": [
        "provas.groupby(provas['Situação']).mean()"
      ],
      "execution_count": 98,
      "outputs": [
        {
          "output_type": "execute_result",
          "data": {
            "text/html": [
              "<div>\n",
              "<style scoped>\n",
              "    .dataframe tbody tr th:only-of-type {\n",
              "        vertical-align: middle;\n",
              "    }\n",
              "\n",
              "    .dataframe tbody tr th {\n",
              "        vertical-align: top;\n",
              "    }\n",
              "\n",
              "    .dataframe thead th {\n",
              "        text-align: right;\n",
              "    }\n",
              "</style>\n",
              "<table border=\"1\" class=\"dataframe\">\n",
              "  <thead>\n",
              "    <tr style=\"text-align: right;\">\n",
              "      <th></th>\n",
              "      <th>P1</th>\n",
              "      <th>P2</th>\n",
              "      <th>P3</th>\n",
              "      <th>P4</th>\n",
              "      <th>MF</th>\n",
              "    </tr>\n",
              "    <tr>\n",
              "      <th>Situação</th>\n",
              "      <th></th>\n",
              "      <th></th>\n",
              "      <th></th>\n",
              "      <th></th>\n",
              "      <th></th>\n",
              "    </tr>\n",
              "  </thead>\n",
              "  <tbody>\n",
              "    <tr>\n",
              "      <th>Aprovado</th>\n",
              "      <td>7.1</td>\n",
              "      <td>6.06</td>\n",
              "      <td>7.1</td>\n",
              "      <td>5.88</td>\n",
              "      <td>6.54</td>\n",
              "    </tr>\n",
              "    <tr>\n",
              "      <th>Reprovado</th>\n",
              "      <td>1.6</td>\n",
              "      <td>4.35</td>\n",
              "      <td>1.8</td>\n",
              "      <td>3.70</td>\n",
              "      <td>2.85</td>\n",
              "    </tr>\n",
              "  </tbody>\n",
              "</table>\n",
              "</div>"
            ],
            "text/plain": [
              "            P1    P2   P3    P4    MF\n",
              "Situação                             \n",
              "Aprovado   7.1  6.06  7.1  5.88  6.54\n",
              "Reprovado  1.6  4.35  1.8  3.70  2.85"
            ]
          },
          "metadata": {
            "tags": []
          },
          "execution_count": 98
        }
      ]
    },
    {
      "cell_type": "markdown",
      "metadata": {
        "id": "BUvMF931zOQL"
      },
      "source": [
        "Você também pode agrupar por mais de uma variável:"
      ]
    },
    {
      "cell_type": "code",
      "metadata": {
        "id": "IJa8dXUJy1gP",
        "outputId": "dcc702c8-544c-45ad-c7db-241091fcf9a2",
        "colab": {
          "base_uri": "https://localhost:8080/",
          "height": 206
        }
      },
      "source": [
        "provas.groupby([provas['Situação'], provas['Sexo']]).mean().round(2)"
      ],
      "execution_count": 101,
      "outputs": [
        {
          "output_type": "execute_result",
          "data": {
            "text/html": [
              "<div>\n",
              "<style scoped>\n",
              "    .dataframe tbody tr th:only-of-type {\n",
              "        vertical-align: middle;\n",
              "    }\n",
              "\n",
              "    .dataframe tbody tr th {\n",
              "        vertical-align: top;\n",
              "    }\n",
              "\n",
              "    .dataframe thead th {\n",
              "        text-align: right;\n",
              "    }\n",
              "</style>\n",
              "<table border=\"1\" class=\"dataframe\">\n",
              "  <thead>\n",
              "    <tr style=\"text-align: right;\">\n",
              "      <th></th>\n",
              "      <th></th>\n",
              "      <th>P1</th>\n",
              "      <th>P2</th>\n",
              "      <th>P3</th>\n",
              "      <th>P4</th>\n",
              "      <th>MF</th>\n",
              "    </tr>\n",
              "    <tr>\n",
              "      <th>Situação</th>\n",
              "      <th>Sexo</th>\n",
              "      <th></th>\n",
              "      <th></th>\n",
              "      <th></th>\n",
              "      <th></th>\n",
              "      <th></th>\n",
              "    </tr>\n",
              "  </thead>\n",
              "  <tbody>\n",
              "    <tr>\n",
              "      <th rowspan=\"2\" valign=\"top\">Aprovado</th>\n",
              "      <th>F</th>\n",
              "      <td>5.67</td>\n",
              "      <td>6.07</td>\n",
              "      <td>7.73</td>\n",
              "      <td>7.50</td>\n",
              "      <td>6.77</td>\n",
              "    </tr>\n",
              "    <tr>\n",
              "      <th>M</th>\n",
              "      <td>9.25</td>\n",
              "      <td>6.05</td>\n",
              "      <td>6.15</td>\n",
              "      <td>3.45</td>\n",
              "      <td>6.20</td>\n",
              "    </tr>\n",
              "    <tr>\n",
              "      <th rowspan=\"2\" valign=\"top\">Reprovado</th>\n",
              "      <th>F</th>\n",
              "      <td>2.20</td>\n",
              "      <td>7.00</td>\n",
              "      <td>2.90</td>\n",
              "      <td>4.70</td>\n",
              "      <td>4.20</td>\n",
              "    </tr>\n",
              "    <tr>\n",
              "      <th>M</th>\n",
              "      <td>1.00</td>\n",
              "      <td>1.70</td>\n",
              "      <td>0.70</td>\n",
              "      <td>2.70</td>\n",
              "      <td>1.50</td>\n",
              "    </tr>\n",
              "  </tbody>\n",
              "</table>\n",
              "</div>"
            ],
            "text/plain": [
              "                  P1    P2    P3    P4    MF\n",
              "Situação  Sexo                              \n",
              "Aprovado  F     5.67  6.07  7.73  7.50  6.77\n",
              "          M     9.25  6.05  6.15  3.45  6.20\n",
              "Reprovado F     2.20  7.00  2.90  4.70  4.20\n",
              "          M     1.00  1.70  0.70  2.70  1.50"
            ]
          },
          "metadata": {
            "tags": []
          },
          "execution_count": 101
        }
      ]
    },
    {
      "cell_type": "markdown",
      "metadata": {
        "id": "iuZZ_bQYCSQl"
      },
      "source": [
        "## **LOC e ILOC** <a name=\"iloc\"></a>"
      ]
    },
    {
      "cell_type": "markdown",
      "metadata": {
        "id": "2uVUGaSGNNTC"
      },
      "source": [
        "Comandos **loc** e **iloc**\n",
        "\n",
        "O comando loc permite filtrar conjuntos de dados usando listas booleanas (comparadores) e acessar colunas pelo nome. \n",
        "\n",
        "Sua sintaxe é a seguinte DataFrame.loc[ linhas , colunas ]\n",
        "e é similar ao uso de DataFrame[ colunas ][ linhas ] \n",
        "\n",
        "As linhas abaixo são equivalentes:"
      ]
    },
    {
      "cell_type": "code",
      "metadata": {
        "id": "rOmRaDL8M1pe",
        "outputId": "0c1c339b-07d6-4448-848b-12bb7cc4a9f6",
        "colab": {
          "base_uri": "https://localhost:8080/",
          "height": 143
        }
      },
      "source": [
        "provas[provas['Situação'] == 'Reprovado'][['P1', 'MF']]"
      ],
      "execution_count": 102,
      "outputs": [
        {
          "output_type": "execute_result",
          "data": {
            "text/html": [
              "<div>\n",
              "<style scoped>\n",
              "    .dataframe tbody tr th:only-of-type {\n",
              "        vertical-align: middle;\n",
              "    }\n",
              "\n",
              "    .dataframe tbody tr th {\n",
              "        vertical-align: top;\n",
              "    }\n",
              "\n",
              "    .dataframe thead th {\n",
              "        text-align: right;\n",
              "    }\n",
              "</style>\n",
              "<table border=\"1\" class=\"dataframe\">\n",
              "  <thead>\n",
              "    <tr style=\"text-align: right;\">\n",
              "      <th></th>\n",
              "      <th>P1</th>\n",
              "      <th>MF</th>\n",
              "    </tr>\n",
              "    <tr>\n",
              "      <th>Nome</th>\n",
              "      <th></th>\n",
              "      <th></th>\n",
              "    </tr>\n",
              "  </thead>\n",
              "  <tbody>\n",
              "    <tr>\n",
              "      <th>Bruno</th>\n",
              "      <td>1.0</td>\n",
              "      <td>1.5</td>\n",
              "    </tr>\n",
              "    <tr>\n",
              "      <th>Emily</th>\n",
              "      <td>2.2</td>\n",
              "      <td>4.2</td>\n",
              "    </tr>\n",
              "  </tbody>\n",
              "</table>\n",
              "</div>"
            ],
            "text/plain": [
              "        P1   MF\n",
              "Nome           \n",
              "Bruno  1.0  1.5\n",
              "Emily  2.2  4.2"
            ]
          },
          "metadata": {
            "tags": []
          },
          "execution_count": 102
        }
      ]
    },
    {
      "cell_type": "code",
      "metadata": {
        "id": "zfL4RW3jNCIM",
        "outputId": "245206d7-44db-4377-efb1-054ca05690a0",
        "colab": {
          "base_uri": "https://localhost:8080/",
          "height": 143
        }
      },
      "source": [
        "provas.loc[ provas['Situação'] == 'Reprovado' , ['P1', 'MF'] ]"
      ],
      "execution_count": 103,
      "outputs": [
        {
          "output_type": "execute_result",
          "data": {
            "text/html": [
              "<div>\n",
              "<style scoped>\n",
              "    .dataframe tbody tr th:only-of-type {\n",
              "        vertical-align: middle;\n",
              "    }\n",
              "\n",
              "    .dataframe tbody tr th {\n",
              "        vertical-align: top;\n",
              "    }\n",
              "\n",
              "    .dataframe thead th {\n",
              "        text-align: right;\n",
              "    }\n",
              "</style>\n",
              "<table border=\"1\" class=\"dataframe\">\n",
              "  <thead>\n",
              "    <tr style=\"text-align: right;\">\n",
              "      <th></th>\n",
              "      <th>P1</th>\n",
              "      <th>MF</th>\n",
              "    </tr>\n",
              "    <tr>\n",
              "      <th>Nome</th>\n",
              "      <th></th>\n",
              "      <th></th>\n",
              "    </tr>\n",
              "  </thead>\n",
              "  <tbody>\n",
              "    <tr>\n",
              "      <th>Bruno</th>\n",
              "      <td>1.0</td>\n",
              "      <td>1.5</td>\n",
              "    </tr>\n",
              "    <tr>\n",
              "      <th>Emily</th>\n",
              "      <td>2.2</td>\n",
              "      <td>4.2</td>\n",
              "    </tr>\n",
              "  </tbody>\n",
              "</table>\n",
              "</div>"
            ],
            "text/plain": [
              "        P1   MF\n",
              "Nome           \n",
              "Bruno  1.0  1.5\n",
              "Emily  2.2  4.2"
            ]
          },
          "metadata": {
            "tags": []
          },
          "execution_count": 103
        }
      ]
    },
    {
      "cell_type": "markdown",
      "metadata": {
        "id": "-jU3CpunO6GN"
      },
      "source": [
        "O comando **iloc** utilizamos quando queremos buscar em um conjunto de dados pelo índice número (iloc = index location)"
      ]
    },
    {
      "cell_type": "code",
      "metadata": {
        "id": "YesdtS8Rz8r-",
        "outputId": "e2d64089-6595-49c7-f22b-1b98d80177cb",
        "colab": {
          "base_uri": "https://localhost:8080/",
          "height": 206
        }
      },
      "source": [
        "provas.iloc[:4, 2:5]"
      ],
      "execution_count": 109,
      "outputs": [
        {
          "output_type": "execute_result",
          "data": {
            "text/html": [
              "<div>\n",
              "<style scoped>\n",
              "    .dataframe tbody tr th:only-of-type {\n",
              "        vertical-align: middle;\n",
              "    }\n",
              "\n",
              "    .dataframe tbody tr th {\n",
              "        vertical-align: top;\n",
              "    }\n",
              "\n",
              "    .dataframe thead th {\n",
              "        text-align: right;\n",
              "    }\n",
              "</style>\n",
              "<table border=\"1\" class=\"dataframe\">\n",
              "  <thead>\n",
              "    <tr style=\"text-align: right;\">\n",
              "      <th></th>\n",
              "      <th>P2</th>\n",
              "      <th>P3</th>\n",
              "      <th>P4</th>\n",
              "    </tr>\n",
              "    <tr>\n",
              "      <th>Nome</th>\n",
              "      <th></th>\n",
              "      <th></th>\n",
              "      <th></th>\n",
              "    </tr>\n",
              "  </thead>\n",
              "  <tbody>\n",
              "    <tr>\n",
              "      <th>Alice</th>\n",
              "      <td>7.4</td>\n",
              "      <td>7.9</td>\n",
              "      <td>9.1</td>\n",
              "    </tr>\n",
              "    <tr>\n",
              "      <th>Bruno</th>\n",
              "      <td>1.7</td>\n",
              "      <td>0.7</td>\n",
              "      <td>2.7</td>\n",
              "    </tr>\n",
              "    <tr>\n",
              "      <th>Carol</th>\n",
              "      <td>3.2</td>\n",
              "      <td>5.9</td>\n",
              "      <td>6.7</td>\n",
              "    </tr>\n",
              "    <tr>\n",
              "      <th>David</th>\n",
              "      <td>3.5</td>\n",
              "      <td>7.6</td>\n",
              "      <td>3.3</td>\n",
              "    </tr>\n",
              "  </tbody>\n",
              "</table>\n",
              "</div>"
            ],
            "text/plain": [
              "        P2   P3   P4\n",
              "Nome                \n",
              "Alice  7.4  7.9  9.1\n",
              "Bruno  1.7  0.7  2.7\n",
              "Carol  3.2  5.9  6.7\n",
              "David  3.5  7.6  3.3"
            ]
          },
          "metadata": {
            "tags": []
          },
          "execution_count": 109
        }
      ]
    },
    {
      "cell_type": "code",
      "metadata": {
        "id": "6ctTWfBuO5dS",
        "outputId": "c77300d4-eda1-4838-e6ca-be6fd7af5fce",
        "colab": {
          "base_uri": "https://localhost:8080/",
          "height": 143
        }
      },
      "source": [
        "provas.iloc[[1, 4], [1, 4]]"
      ],
      "execution_count": 108,
      "outputs": [
        {
          "output_type": "execute_result",
          "data": {
            "text/html": [
              "<div>\n",
              "<style scoped>\n",
              "    .dataframe tbody tr th:only-of-type {\n",
              "        vertical-align: middle;\n",
              "    }\n",
              "\n",
              "    .dataframe tbody tr th {\n",
              "        vertical-align: top;\n",
              "    }\n",
              "\n",
              "    .dataframe thead th {\n",
              "        text-align: right;\n",
              "    }\n",
              "</style>\n",
              "<table border=\"1\" class=\"dataframe\">\n",
              "  <thead>\n",
              "    <tr style=\"text-align: right;\">\n",
              "      <th></th>\n",
              "      <th>P1</th>\n",
              "      <th>P4</th>\n",
              "    </tr>\n",
              "    <tr>\n",
              "      <th>Nome</th>\n",
              "      <th></th>\n",
              "      <th></th>\n",
              "    </tr>\n",
              "  </thead>\n",
              "  <tbody>\n",
              "    <tr>\n",
              "      <th>Bruno</th>\n",
              "      <td>1.0</td>\n",
              "      <td>2.7</td>\n",
              "    </tr>\n",
              "    <tr>\n",
              "      <th>Emily</th>\n",
              "      <td>2.2</td>\n",
              "      <td>4.7</td>\n",
              "    </tr>\n",
              "  </tbody>\n",
              "</table>\n",
              "</div>"
            ],
            "text/plain": [
              "        P1   P4\n",
              "Nome           \n",
              "Bruno  1.0  2.7\n",
              "Emily  2.2  4.7"
            ]
          },
          "metadata": {
            "tags": []
          },
          "execution_count": 108
        }
      ]
    },
    {
      "cell_type": "markdown",
      "metadata": {
        "id": "1-gTbFKo3YrW"
      },
      "source": [
        "## **Importação de Dados** <a name=\"impo\"></a>"
      ]
    },
    {
      "cell_type": "markdown",
      "metadata": {
        "id": "BwEFNnE66SI9"
      },
      "source": [
        "### Exemplo 1: Lendo arquivos da amostra do Google Colab"
      ]
    },
    {
      "cell_type": "code",
      "metadata": {
        "id": "D0mA0hy7yph_"
      },
      "source": [
        "import pandas as pd"
      ],
      "execution_count": 110,
      "outputs": []
    },
    {
      "cell_type": "code",
      "metadata": {
        "id": "g-S0tyJH3cpc"
      },
      "source": [
        "casas = pd.read_csv('/content/sample_data/california_housing_train.csv')"
      ],
      "execution_count": 111,
      "outputs": []
    },
    {
      "cell_type": "code",
      "metadata": {
        "id": "j5iYJJoW4K2c",
        "outputId": "d81e3f8a-bbae-4469-f7f9-2b704ee40dab",
        "colab": {
          "base_uri": "https://localhost:8080/",
          "height": 206
        }
      },
      "source": [
        "casas.head()"
      ],
      "execution_count": 113,
      "outputs": [
        {
          "output_type": "execute_result",
          "data": {
            "text/html": [
              "<div>\n",
              "<style scoped>\n",
              "    .dataframe tbody tr th:only-of-type {\n",
              "        vertical-align: middle;\n",
              "    }\n",
              "\n",
              "    .dataframe tbody tr th {\n",
              "        vertical-align: top;\n",
              "    }\n",
              "\n",
              "    .dataframe thead th {\n",
              "        text-align: right;\n",
              "    }\n",
              "</style>\n",
              "<table border=\"1\" class=\"dataframe\">\n",
              "  <thead>\n",
              "    <tr style=\"text-align: right;\">\n",
              "      <th></th>\n",
              "      <th>longitude</th>\n",
              "      <th>latitude</th>\n",
              "      <th>housing_median_age</th>\n",
              "      <th>total_rooms</th>\n",
              "      <th>total_bedrooms</th>\n",
              "      <th>population</th>\n",
              "      <th>households</th>\n",
              "      <th>median_income</th>\n",
              "      <th>median_house_value</th>\n",
              "    </tr>\n",
              "  </thead>\n",
              "  <tbody>\n",
              "    <tr>\n",
              "      <th>0</th>\n",
              "      <td>-114.31</td>\n",
              "      <td>34.19</td>\n",
              "      <td>15.0</td>\n",
              "      <td>5612.0</td>\n",
              "      <td>1283.0</td>\n",
              "      <td>1015.0</td>\n",
              "      <td>472.0</td>\n",
              "      <td>1.4936</td>\n",
              "      <td>66900.0</td>\n",
              "    </tr>\n",
              "    <tr>\n",
              "      <th>1</th>\n",
              "      <td>-114.47</td>\n",
              "      <td>34.40</td>\n",
              "      <td>19.0</td>\n",
              "      <td>7650.0</td>\n",
              "      <td>1901.0</td>\n",
              "      <td>1129.0</td>\n",
              "      <td>463.0</td>\n",
              "      <td>1.8200</td>\n",
              "      <td>80100.0</td>\n",
              "    </tr>\n",
              "    <tr>\n",
              "      <th>2</th>\n",
              "      <td>-114.56</td>\n",
              "      <td>33.69</td>\n",
              "      <td>17.0</td>\n",
              "      <td>720.0</td>\n",
              "      <td>174.0</td>\n",
              "      <td>333.0</td>\n",
              "      <td>117.0</td>\n",
              "      <td>1.6509</td>\n",
              "      <td>85700.0</td>\n",
              "    </tr>\n",
              "    <tr>\n",
              "      <th>3</th>\n",
              "      <td>-114.57</td>\n",
              "      <td>33.64</td>\n",
              "      <td>14.0</td>\n",
              "      <td>1501.0</td>\n",
              "      <td>337.0</td>\n",
              "      <td>515.0</td>\n",
              "      <td>226.0</td>\n",
              "      <td>3.1917</td>\n",
              "      <td>73400.0</td>\n",
              "    </tr>\n",
              "    <tr>\n",
              "      <th>4</th>\n",
              "      <td>-114.57</td>\n",
              "      <td>33.57</td>\n",
              "      <td>20.0</td>\n",
              "      <td>1454.0</td>\n",
              "      <td>326.0</td>\n",
              "      <td>624.0</td>\n",
              "      <td>262.0</td>\n",
              "      <td>1.9250</td>\n",
              "      <td>65500.0</td>\n",
              "    </tr>\n",
              "  </tbody>\n",
              "</table>\n",
              "</div>"
            ],
            "text/plain": [
              "   longitude  latitude  ...  median_income  median_house_value\n",
              "0    -114.31     34.19  ...         1.4936             66900.0\n",
              "1    -114.47     34.40  ...         1.8200             80100.0\n",
              "2    -114.56     33.69  ...         1.6509             85700.0\n",
              "3    -114.57     33.64  ...         3.1917             73400.0\n",
              "4    -114.57     33.57  ...         1.9250             65500.0\n",
              "\n",
              "[5 rows x 9 columns]"
            ]
          },
          "metadata": {
            "tags": []
          },
          "execution_count": 113
        }
      ]
    },
    {
      "cell_type": "markdown",
      "metadata": {
        "id": "rUAqRcgr6ggf"
      },
      "source": [
        "### Exemplo 2: Lendo arquivos do Google Drive"
      ]
    },
    {
      "cell_type": "markdown",
      "metadata": {
        "id": "vuzv4VhIKQjR"
      },
      "source": [
        "Na aba da esquerda, no Google Colab, clique no botão 'Montar Drive'. Após você autorizar a conexão, você poderá acessar facilmente qualquer arquivo do seu Google Drive aqui no Colab."
      ]
    },
    {
      "cell_type": "code",
      "metadata": {
        "id": "kIvJloUh5JSW"
      },
      "source": [
        "treino = pd.read_csv('/content/drive/My Drive/treinamento.csv')  #só vai funcionar pra mim, pois é o meu drive"
      ],
      "execution_count": null,
      "outputs": []
    },
    {
      "cell_type": "code",
      "metadata": {
        "id": "cT4adToCykKv",
        "outputId": "afe352c7-3863-4d96-a626-9a5fe5af0c6c",
        "colab": {
          "base_uri": "https://localhost:8080/",
          "height": 206
        }
      },
      "source": [
        "treino.head()"
      ],
      "execution_count": null,
      "outputs": [
        {
          "output_type": "execute_result",
          "data": {
            "text/html": [
              "<div>\n",
              "<style scoped>\n",
              "    .dataframe tbody tr th:only-of-type {\n",
              "        vertical-align: middle;\n",
              "    }\n",
              "\n",
              "    .dataframe tbody tr th {\n",
              "        vertical-align: top;\n",
              "    }\n",
              "\n",
              "    .dataframe thead th {\n",
              "        text-align: right;\n",
              "    }\n",
              "</style>\n",
              "<table border=\"1\" class=\"dataframe\">\n",
              "  <thead>\n",
              "    <tr style=\"text-align: right;\">\n",
              "      <th></th>\n",
              "      <th>name</th>\n",
              "      <th>sex</th>\n",
              "      <th>age</th>\n",
              "      <th>sibsp</th>\n",
              "      <th>parch</th>\n",
              "      <th>ticket</th>\n",
              "      <th>fare</th>\n",
              "      <th>embarked</th>\n",
              "      <th>pclass</th>\n",
              "      <th>survived</th>\n",
              "    </tr>\n",
              "  </thead>\n",
              "  <tbody>\n",
              "    <tr>\n",
              "      <th>0</th>\n",
              "      <td>Allen, Miss. Elisabeth Walton</td>\n",
              "      <td>female</td>\n",
              "      <td>29.0000</td>\n",
              "      <td>0</td>\n",
              "      <td>0</td>\n",
              "      <td>24160</td>\n",
              "      <td>211.3375</td>\n",
              "      <td>S</td>\n",
              "      <td>1</td>\n",
              "      <td>1</td>\n",
              "    </tr>\n",
              "    <tr>\n",
              "      <th>1</th>\n",
              "      <td>Allison, Master. Hudson Trevor</td>\n",
              "      <td>male</td>\n",
              "      <td>0.9167</td>\n",
              "      <td>1</td>\n",
              "      <td>2</td>\n",
              "      <td>113781</td>\n",
              "      <td>151.5500</td>\n",
              "      <td>S</td>\n",
              "      <td>1</td>\n",
              "      <td>1</td>\n",
              "    </tr>\n",
              "    <tr>\n",
              "      <th>2</th>\n",
              "      <td>Allison, Mr. Hudson Joshua Creighton</td>\n",
              "      <td>male</td>\n",
              "      <td>30.0000</td>\n",
              "      <td>1</td>\n",
              "      <td>2</td>\n",
              "      <td>113781</td>\n",
              "      <td>151.5500</td>\n",
              "      <td>S</td>\n",
              "      <td>1</td>\n",
              "      <td>0</td>\n",
              "    </tr>\n",
              "    <tr>\n",
              "      <th>3</th>\n",
              "      <td>Anderson, Mr. Harry</td>\n",
              "      <td>male</td>\n",
              "      <td>48.0000</td>\n",
              "      <td>0</td>\n",
              "      <td>0</td>\n",
              "      <td>19952</td>\n",
              "      <td>26.5500</td>\n",
              "      <td>S</td>\n",
              "      <td>1</td>\n",
              "      <td>1</td>\n",
              "    </tr>\n",
              "    <tr>\n",
              "      <th>4</th>\n",
              "      <td>Andrews, Miss. Kornelia Theodosia</td>\n",
              "      <td>female</td>\n",
              "      <td>63.0000</td>\n",
              "      <td>1</td>\n",
              "      <td>0</td>\n",
              "      <td>13502</td>\n",
              "      <td>77.9583</td>\n",
              "      <td>S</td>\n",
              "      <td>1</td>\n",
              "      <td>1</td>\n",
              "    </tr>\n",
              "  </tbody>\n",
              "</table>\n",
              "</div>"
            ],
            "text/plain": [
              "                                   name     sex  ...  pclass  survived\n",
              "0         Allen, Miss. Elisabeth Walton  female  ...       1         1\n",
              "1        Allison, Master. Hudson Trevor    male  ...       1         1\n",
              "2  Allison, Mr. Hudson Joshua Creighton    male  ...       1         0\n",
              "3                   Anderson, Mr. Harry    male  ...       1         1\n",
              "4     Andrews, Miss. Kornelia Theodosia  female  ...       1         1\n",
              "\n",
              "[5 rows x 10 columns]"
            ]
          },
          "metadata": {
            "tags": []
          },
          "execution_count": 99
        }
      ]
    },
    {
      "cell_type": "markdown",
      "metadata": {
        "id": "WwE6951d6jNB"
      },
      "source": [
        "### Exemplo 3: Lendo arquivos xlsx direto do Github"
      ]
    },
    {
      "cell_type": "markdown",
      "metadata": {
        "id": "XJM-OsVNKnkI"
      },
      "source": [
        "Exemplo de leitura de dados do Excel, direto do github. São os dados de Covid-19 pelo mundo, oferecidos pelo Our World In Data. "
      ]
    },
    {
      "cell_type": "code",
      "metadata": {
        "id": "q3Xb5q1m5Ni1"
      },
      "source": [
        "url = 'https://github.com/owid/covid-19-data/blob/master/public/data/owid-covid-data.xlsx?raw=true'\n",
        "\n",
        "covid = pd.read_excel(url)"
      ],
      "execution_count": 115,
      "outputs": []
    },
    {
      "cell_type": "code",
      "metadata": {
        "id": "Sqv7i4A_5ilw",
        "outputId": "f03cb741-dbc5-4705-e982-7b94fbda1f56",
        "colab": {
          "base_uri": "https://localhost:8080/",
          "height": 226
        }
      },
      "source": [
        "covid.head()"
      ],
      "execution_count": 116,
      "outputs": [
        {
          "output_type": "execute_result",
          "data": {
            "text/html": [
              "<div>\n",
              "<style scoped>\n",
              "    .dataframe tbody tr th:only-of-type {\n",
              "        vertical-align: middle;\n",
              "    }\n",
              "\n",
              "    .dataframe tbody tr th {\n",
              "        vertical-align: top;\n",
              "    }\n",
              "\n",
              "    .dataframe thead th {\n",
              "        text-align: right;\n",
              "    }\n",
              "</style>\n",
              "<table border=\"1\" class=\"dataframe\">\n",
              "  <thead>\n",
              "    <tr style=\"text-align: right;\">\n",
              "      <th></th>\n",
              "      <th>iso_code</th>\n",
              "      <th>continent</th>\n",
              "      <th>location</th>\n",
              "      <th>date</th>\n",
              "      <th>total_cases</th>\n",
              "      <th>new_cases</th>\n",
              "      <th>new_cases_smoothed</th>\n",
              "      <th>total_deaths</th>\n",
              "      <th>new_deaths</th>\n",
              "      <th>new_deaths_smoothed</th>\n",
              "      <th>total_cases_per_million</th>\n",
              "      <th>new_cases_per_million</th>\n",
              "      <th>new_cases_smoothed_per_million</th>\n",
              "      <th>total_deaths_per_million</th>\n",
              "      <th>new_deaths_per_million</th>\n",
              "      <th>new_deaths_smoothed_per_million</th>\n",
              "      <th>new_tests</th>\n",
              "      <th>total_tests</th>\n",
              "      <th>total_tests_per_thousand</th>\n",
              "      <th>new_tests_per_thousand</th>\n",
              "      <th>new_tests_smoothed</th>\n",
              "      <th>new_tests_smoothed_per_thousand</th>\n",
              "      <th>tests_per_case</th>\n",
              "      <th>positive_rate</th>\n",
              "      <th>tests_units</th>\n",
              "      <th>stringency_index</th>\n",
              "      <th>population</th>\n",
              "      <th>population_density</th>\n",
              "      <th>median_age</th>\n",
              "      <th>aged_65_older</th>\n",
              "      <th>aged_70_older</th>\n",
              "      <th>gdp_per_capita</th>\n",
              "      <th>extreme_poverty</th>\n",
              "      <th>cardiovasc_death_rate</th>\n",
              "      <th>diabetes_prevalence</th>\n",
              "      <th>female_smokers</th>\n",
              "      <th>male_smokers</th>\n",
              "      <th>handwashing_facilities</th>\n",
              "      <th>hospital_beds_per_thousand</th>\n",
              "      <th>life_expectancy</th>\n",
              "      <th>human_development_index</th>\n",
              "    </tr>\n",
              "  </thead>\n",
              "  <tbody>\n",
              "    <tr>\n",
              "      <th>0</th>\n",
              "      <td>AFG</td>\n",
              "      <td>Asia</td>\n",
              "      <td>Afghanistan</td>\n",
              "      <td>2019-12-31</td>\n",
              "      <td>0.0</td>\n",
              "      <td>0.0</td>\n",
              "      <td>NaN</td>\n",
              "      <td>0.0</td>\n",
              "      <td>0.0</td>\n",
              "      <td>NaN</td>\n",
              "      <td>0.0</td>\n",
              "      <td>0.0</td>\n",
              "      <td>NaN</td>\n",
              "      <td>0.0</td>\n",
              "      <td>0.0</td>\n",
              "      <td>NaN</td>\n",
              "      <td>NaN</td>\n",
              "      <td>NaN</td>\n",
              "      <td>NaN</td>\n",
              "      <td>NaN</td>\n",
              "      <td>NaN</td>\n",
              "      <td>NaN</td>\n",
              "      <td>NaN</td>\n",
              "      <td>NaN</td>\n",
              "      <td>NaN</td>\n",
              "      <td>NaN</td>\n",
              "      <td>38928341.0</td>\n",
              "      <td>54.422</td>\n",
              "      <td>18.6</td>\n",
              "      <td>2.581</td>\n",
              "      <td>1.337</td>\n",
              "      <td>1803.987</td>\n",
              "      <td>NaN</td>\n",
              "      <td>597.029</td>\n",
              "      <td>9.59</td>\n",
              "      <td>NaN</td>\n",
              "      <td>NaN</td>\n",
              "      <td>37.746</td>\n",
              "      <td>0.5</td>\n",
              "      <td>64.83</td>\n",
              "      <td>0.498</td>\n",
              "    </tr>\n",
              "    <tr>\n",
              "      <th>1</th>\n",
              "      <td>AFG</td>\n",
              "      <td>Asia</td>\n",
              "      <td>Afghanistan</td>\n",
              "      <td>2020-01-01</td>\n",
              "      <td>0.0</td>\n",
              "      <td>0.0</td>\n",
              "      <td>NaN</td>\n",
              "      <td>0.0</td>\n",
              "      <td>0.0</td>\n",
              "      <td>NaN</td>\n",
              "      <td>0.0</td>\n",
              "      <td>0.0</td>\n",
              "      <td>NaN</td>\n",
              "      <td>0.0</td>\n",
              "      <td>0.0</td>\n",
              "      <td>NaN</td>\n",
              "      <td>NaN</td>\n",
              "      <td>NaN</td>\n",
              "      <td>NaN</td>\n",
              "      <td>NaN</td>\n",
              "      <td>NaN</td>\n",
              "      <td>NaN</td>\n",
              "      <td>NaN</td>\n",
              "      <td>NaN</td>\n",
              "      <td>NaN</td>\n",
              "      <td>0.0</td>\n",
              "      <td>38928341.0</td>\n",
              "      <td>54.422</td>\n",
              "      <td>18.6</td>\n",
              "      <td>2.581</td>\n",
              "      <td>1.337</td>\n",
              "      <td>1803.987</td>\n",
              "      <td>NaN</td>\n",
              "      <td>597.029</td>\n",
              "      <td>9.59</td>\n",
              "      <td>NaN</td>\n",
              "      <td>NaN</td>\n",
              "      <td>37.746</td>\n",
              "      <td>0.5</td>\n",
              "      <td>64.83</td>\n",
              "      <td>0.498</td>\n",
              "    </tr>\n",
              "    <tr>\n",
              "      <th>2</th>\n",
              "      <td>AFG</td>\n",
              "      <td>Asia</td>\n",
              "      <td>Afghanistan</td>\n",
              "      <td>2020-01-02</td>\n",
              "      <td>0.0</td>\n",
              "      <td>0.0</td>\n",
              "      <td>NaN</td>\n",
              "      <td>0.0</td>\n",
              "      <td>0.0</td>\n",
              "      <td>NaN</td>\n",
              "      <td>0.0</td>\n",
              "      <td>0.0</td>\n",
              "      <td>NaN</td>\n",
              "      <td>0.0</td>\n",
              "      <td>0.0</td>\n",
              "      <td>NaN</td>\n",
              "      <td>NaN</td>\n",
              "      <td>NaN</td>\n",
              "      <td>NaN</td>\n",
              "      <td>NaN</td>\n",
              "      <td>NaN</td>\n",
              "      <td>NaN</td>\n",
              "      <td>NaN</td>\n",
              "      <td>NaN</td>\n",
              "      <td>NaN</td>\n",
              "      <td>0.0</td>\n",
              "      <td>38928341.0</td>\n",
              "      <td>54.422</td>\n",
              "      <td>18.6</td>\n",
              "      <td>2.581</td>\n",
              "      <td>1.337</td>\n",
              "      <td>1803.987</td>\n",
              "      <td>NaN</td>\n",
              "      <td>597.029</td>\n",
              "      <td>9.59</td>\n",
              "      <td>NaN</td>\n",
              "      <td>NaN</td>\n",
              "      <td>37.746</td>\n",
              "      <td>0.5</td>\n",
              "      <td>64.83</td>\n",
              "      <td>0.498</td>\n",
              "    </tr>\n",
              "    <tr>\n",
              "      <th>3</th>\n",
              "      <td>AFG</td>\n",
              "      <td>Asia</td>\n",
              "      <td>Afghanistan</td>\n",
              "      <td>2020-01-03</td>\n",
              "      <td>0.0</td>\n",
              "      <td>0.0</td>\n",
              "      <td>NaN</td>\n",
              "      <td>0.0</td>\n",
              "      <td>0.0</td>\n",
              "      <td>NaN</td>\n",
              "      <td>0.0</td>\n",
              "      <td>0.0</td>\n",
              "      <td>NaN</td>\n",
              "      <td>0.0</td>\n",
              "      <td>0.0</td>\n",
              "      <td>NaN</td>\n",
              "      <td>NaN</td>\n",
              "      <td>NaN</td>\n",
              "      <td>NaN</td>\n",
              "      <td>NaN</td>\n",
              "      <td>NaN</td>\n",
              "      <td>NaN</td>\n",
              "      <td>NaN</td>\n",
              "      <td>NaN</td>\n",
              "      <td>NaN</td>\n",
              "      <td>0.0</td>\n",
              "      <td>38928341.0</td>\n",
              "      <td>54.422</td>\n",
              "      <td>18.6</td>\n",
              "      <td>2.581</td>\n",
              "      <td>1.337</td>\n",
              "      <td>1803.987</td>\n",
              "      <td>NaN</td>\n",
              "      <td>597.029</td>\n",
              "      <td>9.59</td>\n",
              "      <td>NaN</td>\n",
              "      <td>NaN</td>\n",
              "      <td>37.746</td>\n",
              "      <td>0.5</td>\n",
              "      <td>64.83</td>\n",
              "      <td>0.498</td>\n",
              "    </tr>\n",
              "    <tr>\n",
              "      <th>4</th>\n",
              "      <td>AFG</td>\n",
              "      <td>Asia</td>\n",
              "      <td>Afghanistan</td>\n",
              "      <td>2020-01-04</td>\n",
              "      <td>0.0</td>\n",
              "      <td>0.0</td>\n",
              "      <td>NaN</td>\n",
              "      <td>0.0</td>\n",
              "      <td>0.0</td>\n",
              "      <td>NaN</td>\n",
              "      <td>0.0</td>\n",
              "      <td>0.0</td>\n",
              "      <td>NaN</td>\n",
              "      <td>0.0</td>\n",
              "      <td>0.0</td>\n",
              "      <td>NaN</td>\n",
              "      <td>NaN</td>\n",
              "      <td>NaN</td>\n",
              "      <td>NaN</td>\n",
              "      <td>NaN</td>\n",
              "      <td>NaN</td>\n",
              "      <td>NaN</td>\n",
              "      <td>NaN</td>\n",
              "      <td>NaN</td>\n",
              "      <td>NaN</td>\n",
              "      <td>0.0</td>\n",
              "      <td>38928341.0</td>\n",
              "      <td>54.422</td>\n",
              "      <td>18.6</td>\n",
              "      <td>2.581</td>\n",
              "      <td>1.337</td>\n",
              "      <td>1803.987</td>\n",
              "      <td>NaN</td>\n",
              "      <td>597.029</td>\n",
              "      <td>9.59</td>\n",
              "      <td>NaN</td>\n",
              "      <td>NaN</td>\n",
              "      <td>37.746</td>\n",
              "      <td>0.5</td>\n",
              "      <td>64.83</td>\n",
              "      <td>0.498</td>\n",
              "    </tr>\n",
              "  </tbody>\n",
              "</table>\n",
              "</div>"
            ],
            "text/plain": [
              "  iso_code continent  ... life_expectancy human_development_index\n",
              "0      AFG      Asia  ...           64.83                   0.498\n",
              "1      AFG      Asia  ...           64.83                   0.498\n",
              "2      AFG      Asia  ...           64.83                   0.498\n",
              "3      AFG      Asia  ...           64.83                   0.498\n",
              "4      AFG      Asia  ...           64.83                   0.498\n",
              "\n",
              "[5 rows x 41 columns]"
            ]
          },
          "metadata": {
            "tags": []
          },
          "execution_count": 116
        }
      ]
    },
    {
      "cell_type": "code",
      "metadata": {
        "id": "cik05hc65mFj",
        "outputId": "eb70d1f7-847f-4882-9d0d-55f0fa2d483c",
        "colab": {
          "base_uri": "https://localhost:8080/",
          "height": 320
        }
      },
      "source": [
        "covid.describe()"
      ],
      "execution_count": 117,
      "outputs": [
        {
          "output_type": "execute_result",
          "data": {
            "text/html": [
              "<div>\n",
              "<style scoped>\n",
              "    .dataframe tbody tr th:only-of-type {\n",
              "        vertical-align: middle;\n",
              "    }\n",
              "\n",
              "    .dataframe tbody tr th {\n",
              "        vertical-align: top;\n",
              "    }\n",
              "\n",
              "    .dataframe thead th {\n",
              "        text-align: right;\n",
              "    }\n",
              "</style>\n",
              "<table border=\"1\" class=\"dataframe\">\n",
              "  <thead>\n",
              "    <tr style=\"text-align: right;\">\n",
              "      <th></th>\n",
              "      <th>total_cases</th>\n",
              "      <th>new_cases</th>\n",
              "      <th>new_cases_smoothed</th>\n",
              "      <th>total_deaths</th>\n",
              "      <th>new_deaths</th>\n",
              "      <th>new_deaths_smoothed</th>\n",
              "      <th>total_cases_per_million</th>\n",
              "      <th>new_cases_per_million</th>\n",
              "      <th>new_cases_smoothed_per_million</th>\n",
              "      <th>total_deaths_per_million</th>\n",
              "      <th>new_deaths_per_million</th>\n",
              "      <th>new_deaths_smoothed_per_million</th>\n",
              "      <th>new_tests</th>\n",
              "      <th>total_tests</th>\n",
              "      <th>total_tests_per_thousand</th>\n",
              "      <th>new_tests_per_thousand</th>\n",
              "      <th>new_tests_smoothed</th>\n",
              "      <th>new_tests_smoothed_per_thousand</th>\n",
              "      <th>tests_per_case</th>\n",
              "      <th>positive_rate</th>\n",
              "      <th>stringency_index</th>\n",
              "      <th>population</th>\n",
              "      <th>population_density</th>\n",
              "      <th>median_age</th>\n",
              "      <th>aged_65_older</th>\n",
              "      <th>aged_70_older</th>\n",
              "      <th>gdp_per_capita</th>\n",
              "      <th>extreme_poverty</th>\n",
              "      <th>cardiovasc_death_rate</th>\n",
              "      <th>diabetes_prevalence</th>\n",
              "      <th>female_smokers</th>\n",
              "      <th>male_smokers</th>\n",
              "      <th>handwashing_facilities</th>\n",
              "      <th>hospital_beds_per_thousand</th>\n",
              "      <th>life_expectancy</th>\n",
              "      <th>human_development_index</th>\n",
              "    </tr>\n",
              "  </thead>\n",
              "  <tbody>\n",
              "    <tr>\n",
              "      <th>count</th>\n",
              "      <td>4.797900e+04</td>\n",
              "      <td>47761.000000</td>\n",
              "      <td>46979.000000</td>\n",
              "      <td>4.797900e+04</td>\n",
              "      <td>47761.000000</td>\n",
              "      <td>46979.000000</td>\n",
              "      <td>47697.000000</td>\n",
              "      <td>47697.000000</td>\n",
              "      <td>46914.000000</td>\n",
              "      <td>47697.000000</td>\n",
              "      <td>47697.000000</td>\n",
              "      <td>46914.000000</td>\n",
              "      <td>1.746400e+04</td>\n",
              "      <td>1.788500e+04</td>\n",
              "      <td>17885.000000</td>\n",
              "      <td>17464.000000</td>\n",
              "      <td>1.971200e+04</td>\n",
              "      <td>19712.000000</td>\n",
              "      <td>18151.000000</td>\n",
              "      <td>18593.000000</td>\n",
              "      <td>40351.000000</td>\n",
              "      <td>4.831200e+04</td>\n",
              "      <td>46095.000000</td>\n",
              "      <td>43311.000000</td>\n",
              "      <td>42665.000000</td>\n",
              "      <td>43086.000000</td>\n",
              "      <td>42747.000000</td>\n",
              "      <td>28522.000000</td>\n",
              "      <td>43319.000000</td>\n",
              "      <td>44851.000000</td>\n",
              "      <td>33900.000000</td>\n",
              "      <td>33469.000000</td>\n",
              "      <td>20319.000000</td>\n",
              "      <td>39110.000000</td>\n",
              "      <td>47700.000000</td>\n",
              "      <td>41791.000000</td>\n",
              "    </tr>\n",
              "    <tr>\n",
              "      <th>mean</th>\n",
              "      <td>1.113099e+05</td>\n",
              "      <td>1501.151735</td>\n",
              "      <td>1488.388960</td>\n",
              "      <td>4.329825e+03</td>\n",
              "      <td>43.892758</td>\n",
              "      <td>43.980907</td>\n",
              "      <td>2067.357168</td>\n",
              "      <td>25.962271</td>\n",
              "      <td>25.550033</td>\n",
              "      <td>60.742321</td>\n",
              "      <td>0.573086</td>\n",
              "      <td>0.571698</td>\n",
              "      <td>2.400460e+04</td>\n",
              "      <td>1.644680e+06</td>\n",
              "      <td>57.601142</td>\n",
              "      <td>0.757350</td>\n",
              "      <td>2.322248e+04</td>\n",
              "      <td>0.743401</td>\n",
              "      <td>171.312277</td>\n",
              "      <td>0.064618</td>\n",
              "      <td>57.222270</td>\n",
              "      <td>8.793139e+07</td>\n",
              "      <td>359.653457</td>\n",
              "      <td>31.298878</td>\n",
              "      <td>9.244052</td>\n",
              "      <td>5.845916</td>\n",
              "      <td>20850.705174</td>\n",
              "      <td>12.171454</td>\n",
              "      <td>251.712026</td>\n",
              "      <td>8.049791</td>\n",
              "      <td>10.800731</td>\n",
              "      <td>32.635599</td>\n",
              "      <td>52.387014</td>\n",
              "      <td>3.107375</td>\n",
              "      <td>74.007960</td>\n",
              "      <td>0.724383</td>\n",
              "    </tr>\n",
              "    <tr>\n",
              "      <th>std</th>\n",
              "      <td>1.151242e+06</td>\n",
              "      <td>13565.635870</td>\n",
              "      <td>13373.943257</td>\n",
              "      <td>4.017270e+04</td>\n",
              "      <td>368.617479</td>\n",
              "      <td>358.772199</td>\n",
              "      <td>4316.803101</td>\n",
              "      <td>78.190086</td>\n",
              "      <td>59.718127</td>\n",
              "      <td>147.147552</td>\n",
              "      <td>2.988627</td>\n",
              "      <td>1.892375</td>\n",
              "      <td>9.882829e+04</td>\n",
              "      <td>7.393623e+06</td>\n",
              "      <td>116.085177</td>\n",
              "      <td>1.453654</td>\n",
              "      <td>9.079101e+04</td>\n",
              "      <td>1.318289</td>\n",
              "      <td>877.594265</td>\n",
              "      <td>0.090318</td>\n",
              "      <td>27.226416</td>\n",
              "      <td>6.109307e+08</td>\n",
              "      <td>1650.857881</td>\n",
              "      <td>9.028102</td>\n",
              "      <td>6.314912</td>\n",
              "      <td>4.311562</td>\n",
              "      <td>20407.419662</td>\n",
              "      <td>19.260778</td>\n",
              "      <td>117.488979</td>\n",
              "      <td>4.150025</td>\n",
              "      <td>10.477294</td>\n",
              "      <td>13.424507</td>\n",
              "      <td>31.613116</td>\n",
              "      <td>2.524601</td>\n",
              "      <td>7.377219</td>\n",
              "      <td>0.152895</td>\n",
              "    </tr>\n",
              "    <tr>\n",
              "      <th>min</th>\n",
              "      <td>0.000000e+00</td>\n",
              "      <td>-8261.000000</td>\n",
              "      <td>-552.000000</td>\n",
              "      <td>0.000000e+00</td>\n",
              "      <td>-1918.000000</td>\n",
              "      <td>-232.143000</td>\n",
              "      <td>0.000000</td>\n",
              "      <td>-2212.545000</td>\n",
              "      <td>-269.978000</td>\n",
              "      <td>0.000000</td>\n",
              "      <td>-67.901000</td>\n",
              "      <td>-9.678000</td>\n",
              "      <td>-3.743000e+03</td>\n",
              "      <td>1.000000e+00</td>\n",
              "      <td>0.000000</td>\n",
              "      <td>-0.398000</td>\n",
              "      <td>0.000000e+00</td>\n",
              "      <td>0.000000</td>\n",
              "      <td>1.534000</td>\n",
              "      <td>0.000000</td>\n",
              "      <td>0.000000</td>\n",
              "      <td>8.090000e+02</td>\n",
              "      <td>0.137000</td>\n",
              "      <td>15.100000</td>\n",
              "      <td>1.144000</td>\n",
              "      <td>0.526000</td>\n",
              "      <td>661.240000</td>\n",
              "      <td>0.100000</td>\n",
              "      <td>79.370000</td>\n",
              "      <td>0.990000</td>\n",
              "      <td>0.100000</td>\n",
              "      <td>7.700000</td>\n",
              "      <td>1.188000</td>\n",
              "      <td>0.100000</td>\n",
              "      <td>53.280000</td>\n",
              "      <td>0.354000</td>\n",
              "    </tr>\n",
              "    <tr>\n",
              "      <th>25%</th>\n",
              "      <td>6.600000e+01</td>\n",
              "      <td>0.000000</td>\n",
              "      <td>0.571000</td>\n",
              "      <td>1.000000e+00</td>\n",
              "      <td>0.000000</td>\n",
              "      <td>0.000000</td>\n",
              "      <td>35.849000</td>\n",
              "      <td>0.000000</td>\n",
              "      <td>0.161000</td>\n",
              "      <td>0.047000</td>\n",
              "      <td>0.000000</td>\n",
              "      <td>0.000000</td>\n",
              "      <td>1.008750e+03</td>\n",
              "      <td>4.953400e+04</td>\n",
              "      <td>2.934000</td>\n",
              "      <td>0.063000</td>\n",
              "      <td>1.084000e+03</td>\n",
              "      <td>0.065000</td>\n",
              "      <td>11.647000</td>\n",
              "      <td>0.009000</td>\n",
              "      <td>38.890000</td>\n",
              "      <td>1.399491e+06</td>\n",
              "      <td>37.728000</td>\n",
              "      <td>23.300000</td>\n",
              "      <td>3.552000</td>\n",
              "      <td>2.142000</td>\n",
              "      <td>5338.454000</td>\n",
              "      <td>0.500000</td>\n",
              "      <td>155.898000</td>\n",
              "      <td>5.310000</td>\n",
              "      <td>1.900000</td>\n",
              "      <td>21.400000</td>\n",
              "      <td>21.222000</td>\n",
              "      <td>1.300000</td>\n",
              "      <td>69.870000</td>\n",
              "      <td>0.606000</td>\n",
              "    </tr>\n",
              "    <tr>\n",
              "      <th>50%</th>\n",
              "      <td>1.131000e+03</td>\n",
              "      <td>11.000000</td>\n",
              "      <td>15.714000</td>\n",
              "      <td>2.200000e+01</td>\n",
              "      <td>0.000000</td>\n",
              "      <td>0.143000</td>\n",
              "      <td>309.573000</td>\n",
              "      <td>1.666000</td>\n",
              "      <td>3.126500</td>\n",
              "      <td>5.442000</td>\n",
              "      <td>0.000000</td>\n",
              "      <td>0.022000</td>\n",
              "      <td>3.388500e+03</td>\n",
              "      <td>2.102020e+05</td>\n",
              "      <td>15.314000</td>\n",
              "      <td>0.296000</td>\n",
              "      <td>3.788000e+03</td>\n",
              "      <td>0.312000</td>\n",
              "      <td>32.477000</td>\n",
              "      <td>0.029000</td>\n",
              "      <td>62.960000</td>\n",
              "      <td>8.654618e+06</td>\n",
              "      <td>88.125000</td>\n",
              "      <td>31.100000</td>\n",
              "      <td>6.981000</td>\n",
              "      <td>4.419000</td>\n",
              "      <td>14048.881000</td>\n",
              "      <td>2.000000</td>\n",
              "      <td>238.339000</td>\n",
              "      <td>7.110000</td>\n",
              "      <td>6.400000</td>\n",
              "      <td>31.400000</td>\n",
              "      <td>55.182000</td>\n",
              "      <td>2.500000</td>\n",
              "      <td>75.400000</td>\n",
              "      <td>0.754000</td>\n",
              "    </tr>\n",
              "    <tr>\n",
              "      <th>75%</th>\n",
              "      <td>1.239100e+04</td>\n",
              "      <td>174.000000</td>\n",
              "      <td>179.429000</td>\n",
              "      <td>2.620000e+02</td>\n",
              "      <td>3.000000</td>\n",
              "      <td>3.143000</td>\n",
              "      <td>2176.364000</td>\n",
              "      <td>19.090000</td>\n",
              "      <td>21.047000</td>\n",
              "      <td>38.846000</td>\n",
              "      <td>0.213000</td>\n",
              "      <td>0.307000</td>\n",
              "      <td>1.234525e+04</td>\n",
              "      <td>8.251330e+05</td>\n",
              "      <td>63.252000</td>\n",
              "      <td>0.870000</td>\n",
              "      <td>1.327850e+04</td>\n",
              "      <td>0.882000</td>\n",
              "      <td>103.544500</td>\n",
              "      <td>0.084000</td>\n",
              "      <td>79.630000</td>\n",
              "      <td>3.107294e+07</td>\n",
              "      <td>214.243000</td>\n",
              "      <td>39.700000</td>\n",
              "      <td>14.762000</td>\n",
              "      <td>9.473000</td>\n",
              "      <td>31400.840000</td>\n",
              "      <td>16.000000</td>\n",
              "      <td>318.991000</td>\n",
              "      <td>10.390000</td>\n",
              "      <td>19.600000</td>\n",
              "      <td>40.900000</td>\n",
              "      <td>83.741000</td>\n",
              "      <td>4.200000</td>\n",
              "      <td>79.380000</td>\n",
              "      <td>0.847000</td>\n",
              "    </tr>\n",
              "    <tr>\n",
              "      <th>max</th>\n",
              "      <td>3.584825e+07</td>\n",
              "      <td>323186.000000</td>\n",
              "      <td>302387.429000</td>\n",
              "      <td>1.048181e+06</td>\n",
              "      <td>10491.000000</td>\n",
              "      <td>7456.857000</td>\n",
              "      <td>44061.214000</td>\n",
              "      <td>4944.376000</td>\n",
              "      <td>882.924000</td>\n",
              "      <td>1237.551000</td>\n",
              "      <td>215.382000</td>\n",
              "      <td>63.140000</td>\n",
              "      <td>1.492409e+06</td>\n",
              "      <td>1.191400e+08</td>\n",
              "      <td>1378.259000</td>\n",
              "      <td>25.931000</td>\n",
              "      <td>1.169107e+06</td>\n",
              "      <td>19.071000</td>\n",
              "      <td>47299.000000</td>\n",
              "      <td>0.652000</td>\n",
              "      <td>100.000000</td>\n",
              "      <td>7.794799e+09</td>\n",
              "      <td>19347.500000</td>\n",
              "      <td>48.200000</td>\n",
              "      <td>27.049000</td>\n",
              "      <td>18.493000</td>\n",
              "      <td>116935.600000</td>\n",
              "      <td>77.600000</td>\n",
              "      <td>724.417000</td>\n",
              "      <td>23.360000</td>\n",
              "      <td>44.000000</td>\n",
              "      <td>78.100000</td>\n",
              "      <td>98.999000</td>\n",
              "      <td>13.800000</td>\n",
              "      <td>86.750000</td>\n",
              "      <td>0.953000</td>\n",
              "    </tr>\n",
              "  </tbody>\n",
              "</table>\n",
              "</div>"
            ],
            "text/plain": [
              "        total_cases      new_cases  ...  life_expectancy  human_development_index\n",
              "count  4.797900e+04   47761.000000  ...     47700.000000             41791.000000\n",
              "mean   1.113099e+05    1501.151735  ...        74.007960                 0.724383\n",
              "std    1.151242e+06   13565.635870  ...         7.377219                 0.152895\n",
              "min    0.000000e+00   -8261.000000  ...        53.280000                 0.354000\n",
              "25%    6.600000e+01       0.000000  ...        69.870000                 0.606000\n",
              "50%    1.131000e+03      11.000000  ...        75.400000                 0.754000\n",
              "75%    1.239100e+04     174.000000  ...        79.380000                 0.847000\n",
              "max    3.584825e+07  323186.000000  ...        86.750000                 0.953000\n",
              "\n",
              "[8 rows x 36 columns]"
            ]
          },
          "metadata": {
            "tags": []
          },
          "execution_count": 117
        }
      ]
    },
    {
      "cell_type": "markdown",
      "metadata": {
        "id": "PxQ2ds537BBn"
      },
      "source": [
        "### Exemplo 4: Lendo arquivos csv direto do Github"
      ]
    },
    {
      "cell_type": "code",
      "metadata": {
        "id": "hEq-T7CD7BBw"
      },
      "source": [
        "import pandas as pd\n",
        "url = 'https://raw.githubusercontent.com/ricardorocha86/Datasets/master/PesquisaDH/datahackers-survey-2019-anonymous-responses.csv'\n",
        "dados = pd.read_csv(url)"
      ],
      "execution_count": 118,
      "outputs": []
    },
    {
      "cell_type": "code",
      "metadata": {
        "id": "V4zslsyK7Iue",
        "outputId": "f9d3d44f-cf9d-4390-d28a-72b6d9b6fd47",
        "colab": {
          "base_uri": "https://localhost:8080/",
          "height": 412
        }
      },
      "source": [
        "dados.head()"
      ],
      "execution_count": 119,
      "outputs": [
        {
          "output_type": "execute_result",
          "data": {
            "text/html": [
              "<div>\n",
              "<style scoped>\n",
              "    .dataframe tbody tr th:only-of-type {\n",
              "        vertical-align: middle;\n",
              "    }\n",
              "\n",
              "    .dataframe tbody tr th {\n",
              "        vertical-align: top;\n",
              "    }\n",
              "\n",
              "    .dataframe thead th {\n",
              "        text-align: right;\n",
              "    }\n",
              "</style>\n",
              "<table border=\"1\" class=\"dataframe\">\n",
              "  <thead>\n",
              "    <tr style=\"text-align: right;\">\n",
              "      <th></th>\n",
              "      <th>('P0', 'id')</th>\n",
              "      <th>('P1', 'age')</th>\n",
              "      <th>('P2', 'gender')</th>\n",
              "      <th>('P3', 'living_in_brasil')</th>\n",
              "      <th>('P5', 'living_state')</th>\n",
              "      <th>('P6', 'born_or_graduated')</th>\n",
              "      <th>('P8', 'degreee_level')</th>\n",
              "      <th>('P10', 'job_situation')</th>\n",
              "      <th>('P12', 'workers_number')</th>\n",
              "      <th>('P13', 'manager')</th>\n",
              "      <th>('P16', 'salary_range')</th>\n",
              "      <th>('P17', 'time_experience_data_science')</th>\n",
              "      <th>('P18', 'time_experience_before')</th>\n",
              "      <th>('P19', 'is_data_science_professional')</th>\n",
              "      <th>('P20', 'linear_regression')</th>\n",
              "      <th>('P20', 'logistic_regression')</th>\n",
              "      <th>('P20', 'glms')</th>\n",
              "      <th>('P20', 'decision_tree')</th>\n",
              "      <th>('P20', 'random_forest')</th>\n",
              "      <th>('P20', 'neural_networks')</th>\n",
              "      <th>('P20', 'bayesian_inference')</th>\n",
              "      <th>('P20', 'ensemble')</th>\n",
              "      <th>('P20', 'svms')</th>\n",
              "      <th>('P20', 'cnns')</th>\n",
              "      <th>('P20', 'rnns')</th>\n",
              "      <th>('P20', 'hmms')</th>\n",
              "      <th>('P20', 'gans')</th>\n",
              "      <th>('P20', 'markov_chains')</th>\n",
              "      <th>('P20', 'nlp')</th>\n",
              "      <th>('P20', 'gradient_boosted_machines')</th>\n",
              "      <th>('P20', 'cluster_analysis')</th>\n",
              "      <th>('P20', 'survival_analysis')</th>\n",
              "      <th>('P20', 'longitudinal_data_analysis')</th>\n",
              "      <th>('P20', 'joint analysis')</th>\n",
              "      <th>('P20', 'no_listed_methods')</th>\n",
              "      <th>('P21', 'sql_')</th>\n",
              "      <th>('P21', 'r')</th>\n",
              "      <th>('P21', 'python')</th>\n",
              "      <th>('P21', 'c_c++_c#')</th>\n",
              "      <th>('P21', 'dotnet')</th>\n",
              "      <th>...</th>\n",
              "      <th>('P30', 'microsoft_azure')</th>\n",
              "      <th>('P30', 'do_not_know')</th>\n",
              "      <th>('P30', 'other')</th>\n",
              "      <th>('P31', 'data_hackers_blog')</th>\n",
              "      <th>('P31', 'data_hackers_podcast')</th>\n",
              "      <th>('P31', 'weekly_newsletter')</th>\n",
              "      <th>('P31', 'slack_channel')</th>\n",
              "      <th>('P31', 'data_hackers_bootcamp')</th>\n",
              "      <th>('P31', 'do_not_know_data_hackers')</th>\n",
              "      <th>('P32', 'prefered_data_hackers_initiative')</th>\n",
              "      <th>('P33', 'telegram_groups')</th>\n",
              "      <th>('P33', 'whatsapp_groups')</th>\n",
              "      <th>('P33', 'youtube_channels')</th>\n",
              "      <th>('P33', 'other_brasilian_blogs')</th>\n",
              "      <th>('P33', 'other_slack_channels')</th>\n",
              "      <th>('P33', 'twitter')</th>\n",
              "      <th>('P33', 'abroad_blogs')</th>\n",
              "      <th>('P33', 'abroad_podcasts')</th>\n",
              "      <th>('P33', 'meetups_and_events')</th>\n",
              "      <th>('P33', 'only_data_hackers')</th>\n",
              "      <th>('P33', 'other')</th>\n",
              "      <th>('P34', 'udacity')</th>\n",
              "      <th>('P34', 'coursera')</th>\n",
              "      <th>('P34', 'udemy')</th>\n",
              "      <th>('P34', 'height')</th>\n",
              "      <th>('P34', 'edx')</th>\n",
              "      <th>('P34', 'data_camp')</th>\n",
              "      <th>('P34', 'data_quest')</th>\n",
              "      <th>('P34', 'kaggle_learn')</th>\n",
              "      <th>('P34', 'online_courses')</th>\n",
              "      <th>('P34', 'other')</th>\n",
              "      <th>('P35', 'data_science_plataforms_preference')</th>\n",
              "      <th>('P35', 'other')</th>\n",
              "      <th>('P36', 'draw_participation')</th>\n",
              "      <th>('D1', 'living_macroregion')</th>\n",
              "      <th>('D2', 'origin_macroregion')</th>\n",
              "      <th>('D3', 'anonymized_degree_area')</th>\n",
              "      <th>('D4', 'anonymized_market_sector')</th>\n",
              "      <th>('D5', 'anonymized_manager_level')</th>\n",
              "      <th>('D6', 'anonymized_role')</th>\n",
              "    </tr>\n",
              "  </thead>\n",
              "  <tbody>\n",
              "    <tr>\n",
              "      <th>0</th>\n",
              "      <td>v9otv8j9wdvjrv9otvwnn9owhzq54ktv</td>\n",
              "      <td>37.0</td>\n",
              "      <td>Masculino</td>\n",
              "      <td>1</td>\n",
              "      <td>Minas Gerais (MG)</td>\n",
              "      <td>1.0</td>\n",
              "      <td>Estudante de Graduação</td>\n",
              "      <td>Empregado (CTL)</td>\n",
              "      <td>de 1 a 5</td>\n",
              "      <td>0.0</td>\n",
              "      <td>de R$ 1.001/mês a R$ 2.000/mês</td>\n",
              "      <td>Não tenho experiência na área de dados</td>\n",
              "      <td>Não tive experiência na área de TI/Engenharia ...</td>\n",
              "      <td>0</td>\n",
              "      <td>0</td>\n",
              "      <td>0</td>\n",
              "      <td>0</td>\n",
              "      <td>0</td>\n",
              "      <td>0</td>\n",
              "      <td>0</td>\n",
              "      <td>0</td>\n",
              "      <td>0</td>\n",
              "      <td>0</td>\n",
              "      <td>0</td>\n",
              "      <td>0</td>\n",
              "      <td>0</td>\n",
              "      <td>0</td>\n",
              "      <td>0</td>\n",
              "      <td>0</td>\n",
              "      <td>0</td>\n",
              "      <td>0</td>\n",
              "      <td>0</td>\n",
              "      <td>0</td>\n",
              "      <td>0</td>\n",
              "      <td>0</td>\n",
              "      <td>0</td>\n",
              "      <td>0</td>\n",
              "      <td>0</td>\n",
              "      <td>0</td>\n",
              "      <td>0</td>\n",
              "      <td>...</td>\n",
              "      <td>0</td>\n",
              "      <td>0</td>\n",
              "      <td>0</td>\n",
              "      <td>0</td>\n",
              "      <td>0</td>\n",
              "      <td>0</td>\n",
              "      <td>0</td>\n",
              "      <td>0</td>\n",
              "      <td>1</td>\n",
              "      <td>Ainda não conhecia o Data Hackers</td>\n",
              "      <td>0</td>\n",
              "      <td>0</td>\n",
              "      <td>1</td>\n",
              "      <td>0</td>\n",
              "      <td>0</td>\n",
              "      <td>0</td>\n",
              "      <td>0</td>\n",
              "      <td>0</td>\n",
              "      <td>0</td>\n",
              "      <td>0</td>\n",
              "      <td>0</td>\n",
              "      <td>0</td>\n",
              "      <td>0</td>\n",
              "      <td>0</td>\n",
              "      <td>0</td>\n",
              "      <td>0</td>\n",
              "      <td>0</td>\n",
              "      <td>0</td>\n",
              "      <td>0</td>\n",
              "      <td>1</td>\n",
              "      <td>0</td>\n",
              "      <td>Nunca fiz cursos online</td>\n",
              "      <td>NaN</td>\n",
              "      <td>1.0</td>\n",
              "      <td>Região Sudeste</td>\n",
              "      <td>NaN</td>\n",
              "      <td>Computação / Engenharia de Software / Sistemas...</td>\n",
              "      <td>Outras</td>\n",
              "      <td>NaN</td>\n",
              "      <td>Outras</td>\n",
              "    </tr>\n",
              "    <tr>\n",
              "      <th>1</th>\n",
              "      <td>875ul998t0hqcv0871uptwf3oswcfv35</td>\n",
              "      <td>24.0</td>\n",
              "      <td>Feminino</td>\n",
              "      <td>1</td>\n",
              "      <td>São Paulo (SP)</td>\n",
              "      <td>1.0</td>\n",
              "      <td>Estudante de Graduação</td>\n",
              "      <td>Empregado (CTL)</td>\n",
              "      <td>Acima de 3000</td>\n",
              "      <td>0.0</td>\n",
              "      <td>de R$ 2.001/mês a R$ 3000/mês</td>\n",
              "      <td>Menos de 1 ano</td>\n",
              "      <td>Não tive experiência na área de TI/Engenharia ...</td>\n",
              "      <td>1</td>\n",
              "      <td>0</td>\n",
              "      <td>0</td>\n",
              "      <td>0</td>\n",
              "      <td>0</td>\n",
              "      <td>0</td>\n",
              "      <td>0</td>\n",
              "      <td>0</td>\n",
              "      <td>0</td>\n",
              "      <td>0</td>\n",
              "      <td>0</td>\n",
              "      <td>0</td>\n",
              "      <td>0</td>\n",
              "      <td>0</td>\n",
              "      <td>0</td>\n",
              "      <td>0</td>\n",
              "      <td>0</td>\n",
              "      <td>0</td>\n",
              "      <td>0</td>\n",
              "      <td>0</td>\n",
              "      <td>0</td>\n",
              "      <td>1</td>\n",
              "      <td>1</td>\n",
              "      <td>0</td>\n",
              "      <td>1</td>\n",
              "      <td>0</td>\n",
              "      <td>0</td>\n",
              "      <td>...</td>\n",
              "      <td>0</td>\n",
              "      <td>0</td>\n",
              "      <td>0</td>\n",
              "      <td>0</td>\n",
              "      <td>0</td>\n",
              "      <td>0</td>\n",
              "      <td>0</td>\n",
              "      <td>0</td>\n",
              "      <td>1</td>\n",
              "      <td>Ainda não conhecia o Data Hackers</td>\n",
              "      <td>0</td>\n",
              "      <td>0</td>\n",
              "      <td>1</td>\n",
              "      <td>0</td>\n",
              "      <td>0</td>\n",
              "      <td>0</td>\n",
              "      <td>0</td>\n",
              "      <td>0</td>\n",
              "      <td>0</td>\n",
              "      <td>0</td>\n",
              "      <td>0</td>\n",
              "      <td>0</td>\n",
              "      <td>0</td>\n",
              "      <td>1</td>\n",
              "      <td>0</td>\n",
              "      <td>0</td>\n",
              "      <td>0</td>\n",
              "      <td>0</td>\n",
              "      <td>0</td>\n",
              "      <td>0</td>\n",
              "      <td>1</td>\n",
              "      <td>NaN</td>\n",
              "      <td>Data Science Academy</td>\n",
              "      <td>0.0</td>\n",
              "      <td>Região Sudeste</td>\n",
              "      <td>NaN</td>\n",
              "      <td>Computação / Engenharia de Software / Sistemas...</td>\n",
              "      <td>Educação</td>\n",
              "      <td>NaN</td>\n",
              "      <td>Data Analyst/Analista de Dados</td>\n",
              "    </tr>\n",
              "    <tr>\n",
              "      <th>2</th>\n",
              "      <td>puscuk079vw1pusbb900pzw2xvpxtgdk</td>\n",
              "      <td>26.0</td>\n",
              "      <td>Masculino</td>\n",
              "      <td>1</td>\n",
              "      <td>São Paulo (SP)</td>\n",
              "      <td>1.0</td>\n",
              "      <td>Graduação/Bacharelado</td>\n",
              "      <td>Empregado (CTL)</td>\n",
              "      <td>Acima de 3000</td>\n",
              "      <td>0.0</td>\n",
              "      <td>de R$ 4.001/mês a R$ 6.000/mês</td>\n",
              "      <td>de 1 a 2 anos</td>\n",
              "      <td>de 6 a 10 anos</td>\n",
              "      <td>1</td>\n",
              "      <td>0</td>\n",
              "      <td>0</td>\n",
              "      <td>0</td>\n",
              "      <td>0</td>\n",
              "      <td>1</td>\n",
              "      <td>1</td>\n",
              "      <td>0</td>\n",
              "      <td>1</td>\n",
              "      <td>1</td>\n",
              "      <td>0</td>\n",
              "      <td>0</td>\n",
              "      <td>0</td>\n",
              "      <td>0</td>\n",
              "      <td>0</td>\n",
              "      <td>0</td>\n",
              "      <td>0</td>\n",
              "      <td>1</td>\n",
              "      <td>0</td>\n",
              "      <td>0</td>\n",
              "      <td>0</td>\n",
              "      <td>0</td>\n",
              "      <td>0</td>\n",
              "      <td>0</td>\n",
              "      <td>1</td>\n",
              "      <td>0</td>\n",
              "      <td>0</td>\n",
              "      <td>...</td>\n",
              "      <td>0</td>\n",
              "      <td>0</td>\n",
              "      <td>0</td>\n",
              "      <td>0</td>\n",
              "      <td>1</td>\n",
              "      <td>1</td>\n",
              "      <td>0</td>\n",
              "      <td>0</td>\n",
              "      <td>0</td>\n",
              "      <td>Newsletter Semanal</td>\n",
              "      <td>0</td>\n",
              "      <td>0</td>\n",
              "      <td>0</td>\n",
              "      <td>1</td>\n",
              "      <td>0</td>\n",
              "      <td>0</td>\n",
              "      <td>0</td>\n",
              "      <td>0</td>\n",
              "      <td>0</td>\n",
              "      <td>0</td>\n",
              "      <td>0</td>\n",
              "      <td>0</td>\n",
              "      <td>1</td>\n",
              "      <td>1</td>\n",
              "      <td>0</td>\n",
              "      <td>0</td>\n",
              "      <td>0</td>\n",
              "      <td>0</td>\n",
              "      <td>1</td>\n",
              "      <td>0</td>\n",
              "      <td>0</td>\n",
              "      <td>Udemy</td>\n",
              "      <td>NaN</td>\n",
              "      <td>1.0</td>\n",
              "      <td>Região Sudeste</td>\n",
              "      <td>NaN</td>\n",
              "      <td>Outras Engenharias</td>\n",
              "      <td>Indústria (Manufatura)</td>\n",
              "      <td>NaN</td>\n",
              "      <td>Outras</td>\n",
              "    </tr>\n",
              "    <tr>\n",
              "      <th>3</th>\n",
              "      <td>rmel8ewqpbffp2mnfbzermel8eqincov</td>\n",
              "      <td>21.0</td>\n",
              "      <td>Masculino</td>\n",
              "      <td>1</td>\n",
              "      <td>São Paulo (SP)</td>\n",
              "      <td>0.0</td>\n",
              "      <td>Estudante de Graduação</td>\n",
              "      <td>Estagiário</td>\n",
              "      <td>de 11 a 50</td>\n",
              "      <td>0.0</td>\n",
              "      <td>de R$ 1.001/mês a R$ 2.000/mês</td>\n",
              "      <td>Menos de 1 ano</td>\n",
              "      <td>de 2 a 3 anos</td>\n",
              "      <td>1</td>\n",
              "      <td>0</td>\n",
              "      <td>0</td>\n",
              "      <td>0</td>\n",
              "      <td>0</td>\n",
              "      <td>1</td>\n",
              "      <td>0</td>\n",
              "      <td>0</td>\n",
              "      <td>0</td>\n",
              "      <td>0</td>\n",
              "      <td>0</td>\n",
              "      <td>0</td>\n",
              "      <td>0</td>\n",
              "      <td>0</td>\n",
              "      <td>0</td>\n",
              "      <td>0</td>\n",
              "      <td>0</td>\n",
              "      <td>0</td>\n",
              "      <td>0</td>\n",
              "      <td>0</td>\n",
              "      <td>0</td>\n",
              "      <td>0</td>\n",
              "      <td>1</td>\n",
              "      <td>0</td>\n",
              "      <td>1</td>\n",
              "      <td>0</td>\n",
              "      <td>0</td>\n",
              "      <td>...</td>\n",
              "      <td>0</td>\n",
              "      <td>0</td>\n",
              "      <td>0</td>\n",
              "      <td>0</td>\n",
              "      <td>0</td>\n",
              "      <td>0</td>\n",
              "      <td>0</td>\n",
              "      <td>0</td>\n",
              "      <td>1</td>\n",
              "      <td>Ainda não conhecia o Data Hackers</td>\n",
              "      <td>0</td>\n",
              "      <td>1</td>\n",
              "      <td>0</td>\n",
              "      <td>0</td>\n",
              "      <td>0</td>\n",
              "      <td>0</td>\n",
              "      <td>0</td>\n",
              "      <td>1</td>\n",
              "      <td>0</td>\n",
              "      <td>0</td>\n",
              "      <td>0</td>\n",
              "      <td>0</td>\n",
              "      <td>1</td>\n",
              "      <td>1</td>\n",
              "      <td>1</td>\n",
              "      <td>0</td>\n",
              "      <td>0</td>\n",
              "      <td>0</td>\n",
              "      <td>0</td>\n",
              "      <td>0</td>\n",
              "      <td>0</td>\n",
              "      <td>Alura</td>\n",
              "      <td>NaN</td>\n",
              "      <td>1.0</td>\n",
              "      <td>Região Sudeste</td>\n",
              "      <td>Região Sudeste</td>\n",
              "      <td>Computação / Engenharia de Software / Sistemas...</td>\n",
              "      <td>Tecnologia/Fábrica de Software</td>\n",
              "      <td>NaN</td>\n",
              "      <td>Business Intelligence/Analista de BI</td>\n",
              "    </tr>\n",
              "    <tr>\n",
              "      <th>4</th>\n",
              "      <td>pj9mgud4d6mdct1l7vq0pj9mgu78h6ju</td>\n",
              "      <td>27.0</td>\n",
              "      <td>Masculino</td>\n",
              "      <td>1</td>\n",
              "      <td>NaN</td>\n",
              "      <td>1.0</td>\n",
              "      <td>Graduação/Bacharelado</td>\n",
              "      <td>Freelancer</td>\n",
              "      <td>de 6 a 10</td>\n",
              "      <td>1.0</td>\n",
              "      <td>de R$ 6.001/mês a R$ 8.000/mês</td>\n",
              "      <td>de 4 a 5 anos</td>\n",
              "      <td>de 4 a 5 anos</td>\n",
              "      <td>1</td>\n",
              "      <td>1</td>\n",
              "      <td>0</td>\n",
              "      <td>0</td>\n",
              "      <td>1</td>\n",
              "      <td>1</td>\n",
              "      <td>0</td>\n",
              "      <td>0</td>\n",
              "      <td>1</td>\n",
              "      <td>1</td>\n",
              "      <td>0</td>\n",
              "      <td>1</td>\n",
              "      <td>0</td>\n",
              "      <td>0</td>\n",
              "      <td>0</td>\n",
              "      <td>1</td>\n",
              "      <td>0</td>\n",
              "      <td>0</td>\n",
              "      <td>0</td>\n",
              "      <td>0</td>\n",
              "      <td>0</td>\n",
              "      <td>0</td>\n",
              "      <td>1</td>\n",
              "      <td>0</td>\n",
              "      <td>1</td>\n",
              "      <td>1</td>\n",
              "      <td>0</td>\n",
              "      <td>...</td>\n",
              "      <td>0</td>\n",
              "      <td>0</td>\n",
              "      <td>0</td>\n",
              "      <td>1</td>\n",
              "      <td>0</td>\n",
              "      <td>0</td>\n",
              "      <td>0</td>\n",
              "      <td>0</td>\n",
              "      <td>0</td>\n",
              "      <td>Blog/Medium do Data Hackers</td>\n",
              "      <td>0</td>\n",
              "      <td>0</td>\n",
              "      <td>0</td>\n",
              "      <td>0</td>\n",
              "      <td>0</td>\n",
              "      <td>0</td>\n",
              "      <td>0</td>\n",
              "      <td>0</td>\n",
              "      <td>0</td>\n",
              "      <td>0</td>\n",
              "      <td>1</td>\n",
              "      <td>1</td>\n",
              "      <td>1</td>\n",
              "      <td>1</td>\n",
              "      <td>0</td>\n",
              "      <td>0</td>\n",
              "      <td>0</td>\n",
              "      <td>0</td>\n",
              "      <td>0</td>\n",
              "      <td>0</td>\n",
              "      <td>0</td>\n",
              "      <td>Udemy</td>\n",
              "      <td>NaN</td>\n",
              "      <td>1.0</td>\n",
              "      <td>NaN</td>\n",
              "      <td>NaN</td>\n",
              "      <td>Computação / Engenharia de Software / Sistemas...</td>\n",
              "      <td>Internet/Ecommerce</td>\n",
              "      <td>C-level (CDO, CIO, CTO)</td>\n",
              "      <td>NaN</td>\n",
              "    </tr>\n",
              "  </tbody>\n",
              "</table>\n",
              "<p>5 rows × 170 columns</p>\n",
              "</div>"
            ],
            "text/plain": [
              "                       ('P0', 'id')  ...             ('D6', 'anonymized_role')\n",
              "0  v9otv8j9wdvjrv9otvwnn9owhzq54ktv  ...                                Outras\n",
              "1  875ul998t0hqcv0871uptwf3oswcfv35  ...        Data Analyst/Analista de Dados\n",
              "2  puscuk079vw1pusbb900pzw2xvpxtgdk  ...                                Outras\n",
              "3  rmel8ewqpbffp2mnfbzermel8eqincov  ...  Business Intelligence/Analista de BI\n",
              "4  pj9mgud4d6mdct1l7vq0pj9mgu78h6ju  ...                                   NaN\n",
              "\n",
              "[5 rows x 170 columns]"
            ]
          },
          "metadata": {
            "tags": []
          },
          "execution_count": 119
        }
      ]
    },
    {
      "cell_type": "markdown",
      "metadata": {
        "id": "ThRXUgPk1qOW"
      },
      "source": [
        "---"
      ]
    },
    {
      "cell_type": "markdown",
      "metadata": {
        "id": "ihkdYJz4UFiT"
      },
      "source": [
        "## **Links Úteis** <a name=\"links\"></a>\n",
        "- [Documentação da biblioteca Pandas](https://pandas.pydata.org/docs/)"
      ]
    }
  ]
}